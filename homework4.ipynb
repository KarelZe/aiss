{
 "cells": [
  {
   "cell_type": "markdown",
   "metadata": {},
   "source": [
    "# Homework 4 - Concept Drift"
   ]
  },
  {
   "cell_type": "markdown",
   "metadata": {},
   "source": [
    "Load the SEA dataset (\"sea.csv\"). It has three features and one target column.\n",
    "\n",
    "## Tasks\n",
    "1. Train a [SVM classifier](https://scikit-learn.org/stable/modules/svm.html) (gamma = 0.01) with the first 10000 samples of the stream. Subsequently, evaluate it on the remaining data instances. What [score](https://scikit-learn.org/stable/modules/generated/sklearn.svm.SVC.html#sklearn.svm.SVC.score) do you achieve on the train and the test set? <br /> <br />\n",
    "2. Implement a Page Hinkley change detection on the datastream. Again use the first 10000 data instances for the first model training. Retrain the model when a change is detected. How many drifts do you detect in the data? Plot the score curve and also the drift detection points. Use lambda = 0.01 and batch size = 1000 for each data sample (`stream.next_sample()`) <br /> <br />\n",
    "3. Perform a grid search on the whole dataset with the following paramters:  <br /> <br />  **Page-Hinkley:** lambda = [0.01, 0.05, 0.1, 1]  <br /> **SVM:** svm_gamma = [0.01, 0.1]  <br /> <br /> Use the first 10000 samples for the initial training and then a batch-size of 1000 samples for iterative evaluation. Print the prediction accuracy for each parameter pair. What is the best parameter pair? *Hint: You have to implement GridSearch manually.*"
   ]
  },
  {
   "cell_type": "markdown",
   "metadata": {},
   "source": [
    "## Solution 1"
   ]
  },
  {
   "cell_type": "code",
   "execution_count": 28,
   "metadata": {},
   "outputs": [
    {
     "name": "stderr",
     "output_type": "stream",
     "text": [
      "C:\\Users\\Markus\\anaconda3\\envs\\aiss\\lib\\site-packages\\skmultiflow\\data\\base_stream.py:191: FutureWarning: 'prepare_for_use' has been deprecated in v0.5.0 and will be removed in v0.7.0.\n",
      "New instances of the Stream class are now ready to use after instantiation.\n",
      "  warnings.warn(\n"
     ]
    },
    {
     "data": {
      "text/plain": [
       "{'train-score': 0.8782, 'test-score': 0.8331}"
      ]
     },
     "execution_count": 28,
     "metadata": {},
     "output_type": "execute_result"
    }
   ],
   "source": [
    "%matplotlib inline\n",
    "import numpy as np\n",
    "import pandas as pd\n",
    "import matplotlib.pyplot as plt\n",
    "\n",
    "from sklearn.svm import SVC\n",
    "\n",
    "from sklearn.metrics import accuracy_score\n",
    "from skmultiflow.data.data_stream import DataStream\n",
    "\n",
    "data = pd.read_csv(\"./data/sea.csv\")\n",
    "stream = DataStream(data = data)\n",
    "stream.prepare_for_use()\n",
    "\n",
    "clf = SVC(gamma=0.01)\n",
    "\n",
    "\"\"\"\n",
    "Placehorder for comments:\n",
    "\n",
    "\"\"\"\n",
    "def seaSVM():\n",
    "   \n",
    "    #Code your solution here\n",
    "    X_train, y_train = stream.next_sample(10000)\n",
    "    X_test, y_test = stream.next_sample(90000)\n",
    "    \n",
    "    clf.fit(X_train, y_train)\n",
    "    \n",
    "    stream.restart()\n",
    "    #Return your scores here\n",
    "    return {\"train-score\":clf.score(X_train, y_train), \"test-score\":clf.score(X_test, y_test)}\n",
    "seaSVM()"
   ]
  },
  {
   "cell_type": "markdown",
   "metadata": {},
   "source": [
    "## Solution 2\n",
    "You **do not** have to put your code in this function. Just make sure that the image of your plot is saved by the provided command and you return the amount of drift points.\n",
    "\n",
    "The plot should contain: \n",
    "- Page Hinkley Scores\n",
    "- A visual represenation of the breakpoints\n",
    "\n",
    "You can save the plot by using `plt.savefig(\"plot.png\")`.\n"
   ]
  },
  {
   "cell_type": "code",
   "execution_count": 29,
   "metadata": {},
   "outputs": [],
   "source": [
    "\"\"\"\n",
    "Placehorder for comments:\n",
    "\n",
    "\"\"\"\n",
    "\n",
    "def phBreakPoints():\n",
    "    # Replace 0 by the number of detected drifts \n",
    "    \n",
    "    return 13\n",
    "    "
   ]
  },
  {
   "cell_type": "markdown",
   "metadata": {},
   "source": [
    "## Solution 3"
   ]
  },
  {
   "cell_type": "code",
   "execution_count": 35,
   "metadata": {},
   "outputs": [],
   "source": [
    "\"\"\"\n",
    "Its sufficient if you only return the best parameters and leave your solution in the playground area.\n",
    "Placehorder for comments:\n",
    "\n",
    "\"\"\"\n",
    "\n",
    "def bestSMVParams():\n",
    "    # Replace the 0's, leave your code in the playground area\n",
    "    return {'lambda': 0.05, 'gamma': 0.1}\n",
    "    "
   ]
  },
  {
   "cell_type": "markdown",
   "metadata": {},
   "source": [
    "<hr>\n",
    "\n",
    "# Playground\n"
   ]
  },
  {
   "cell_type": "code",
   "execution_count": 31,
   "metadata": {},
   "outputs": [
    {
     "name": "stderr",
     "output_type": "stream",
     "text": [
      "C:\\Users\\Markus\\anaconda3\\envs\\aiss\\lib\\site-packages\\skmultiflow\\data\\base_stream.py:191: FutureWarning: 'prepare_for_use' has been deprecated in v0.5.0 and will be removed in v0.7.0.\n",
      "New instances of the Stream class are now ready to use after instantiation.\n",
      "  warnings.warn(\n"
     ]
    }
   ],
   "source": [
    "stream = DataStream(data = data)\n",
    "stream.prepare_for_use()\n",
    "\n",
    "def compute_ph_statistics(score, mean_score_list, ph_sum_list):\n",
    "\n",
    "    mean_t_1 = mean_score_list[-1]\n",
    "    sum_t_1 = ph_sum_list[-1]\n",
    "    sample_count = len(mean_score_list)\n",
    "\n",
    "\n",
    "    mean_t = mean_t_1 + (score - mean_t_1) / float(sample_count)\n",
    "    sum_t = sum_t_1 + (score - mean_t)\n",
    "    \n",
    "    mean_score_list.append(mean_t)\n",
    "    ph_sum_list.append(sum_t)\n",
    "\n",
    "    s_max = max(ph_sum_list) - sum_t\n",
    "    s_min = sum_t - min(ph_sum_list)\n",
    "\n",
    "    \n",
    "    return (mean_score_list, ph_sum_list, s_max, s_min)"
   ]
  },
  {
   "cell_type": "code",
   "execution_count": 32,
   "metadata": {},
   "outputs": [],
   "source": [
    "def do_ph(ph_lambda = 0.01, gamma=0.01):\n",
    "    \n",
    "    stream.restart()\n",
    "\n",
    "    X_train, y_train = stream.next_sample(10000)\n",
    "    clf.set_params(gamma=gamma)\n",
    "    clf.fit(X_train, y_train)\n",
    "\n",
    "    # Set initial values\n",
    "    ph_sum = [0]\n",
    "    ph_mean = [0]\n",
    "    score_list = []\n",
    "    drift_detected = []\n",
    "\n",
    "    for i in range(int(stream.n_remaining_samples()/1000)):\n",
    "        \n",
    "        X_test, _ = stream.next_sample(1000)\n",
    "        y_predict = clf.predict(X_test)\n",
    "\n",
    "        #Receive true labels after a while\n",
    "        y_test = stream.current_sample_y\n",
    "        score = accuracy_score(y_test, y_predict)\n",
    "        score_list.append(score)\n",
    "            \n",
    "        # get every single sample and calculate statistic\n",
    "        ph_mean, ph_sum, s_min, s_max = compute_ph_statistics(score,ph_mean,ph_sum)\n",
    "\n",
    "        if s_min > ph_lambda or s_max > ph_lambda:\n",
    "            drift_detected.append(i)\n",
    "            ph_sum = [0]\n",
    "            ph_mean = [0]\n",
    "            clf.fit(X_test, y_test)\n",
    "\n",
    "    return score_list, drift_detected\n"
   ]
  },
  {
   "cell_type": "code",
   "execution_count": 33,
   "metadata": {},
   "outputs": [
    {
     "data": {
      "image/png": "[encoded data removed]",
      "text/plain": [
       "<Figure size 432x288 with 1 Axes>"
      ]
     },
     "metadata": {
      "needs_background": "light"
     },
     "output_type": "display_data"
    },
    {
     "name": "stdout",
     "output_type": "stream",
     "text": [
      "Accuracy: 0.8662400000000001\n"
     ]
    },
    {
     "data": {
      "text/plain": [
       "<Figure size 432x288 with 0 Axes>"
      ]
     },
     "metadata": {},
     "output_type": "display_data"
    }
   ],
   "source": [
    "score_list, drift_detected = do_ph(ph_lambda=0.01, gamma=0.01)\n",
    "\n",
    "# Plots the score list\n",
    "plt.figure()\n",
    "plt.plot(score_list, label = 'Accuracy score')\n",
    "\n",
    "j = 1\n",
    "for i in drift_detected:\n",
    "    plt.axvline(i, color = 'red', label = 'Drift {} detected'.format(j))\n",
    "    j += 1\n",
    "    \n",
    "plt.legend()\n",
    "plt.show()\n",
    "plt.savefig(\"plot.png\")\n",
    "print('Accuracy:', np.mean(score_list))"
   ]
  },
  {
   "cell_type": "code",
   "execution_count": 34,
   "metadata": {},
   "outputs": [
    {
     "name": "stdout",
     "output_type": "stream",
     "text": [
      "[({'lambda': 0.01, 'gamma': 0.01}, 0.8662400000000001), ({'lambda': 0.01, 'gamma': 0.1}, 0.8713200000000001), ({'lambda': 0.05, 'gamma': 0.01}, 0.8660399999999998), ({'lambda': 0.05, 'gamma': 0.1}, 0.8737600000000001), ({'lambda': 0.1, 'gamma': 0.01}, 0.86854), ({'lambda': 0.1, 'gamma': 0.1}, 0.8714000000000002), ({'lambda': 1, 'gamma': 0.01}, 0.8331000000000001), ({'lambda': 1, 'gamma': 0.1}, 0.8392999999999999)]\n",
      "best combo:\n",
      "({'lambda': 0.05, 'gamma': 0.1}, 0.8737600000000001)\n"
     ]
    }
   ],
   "source": [
    "\n",
    "# given\n",
    "lambdas = [0.01, 0.05, 0.1, 1]\n",
    "gammas = [0.01, 0.1]\n",
    "\n",
    "# track all results and best results\n",
    "results = []\n",
    "max_combo = ((0,0),-1)\n",
    "\n",
    "# perform grid search\n",
    "for _lambda in lambdas:\n",
    "    for _gamma in gammas:\n",
    "        \n",
    "        score_list, _ = do_ph(ph_lambda=_lambda,gamma=_gamma)\n",
    "        \n",
    "        mean_acc = np.mean(score_list)\n",
    "        results.append(({'lambda':_lambda,'gamma':_gamma},mean_acc))\n",
    "        \n",
    "        if mean_acc > max_combo[1]:\n",
    "            max_combo = ({'lambda':_lambda,'gamma':_gamma},mean_acc)\n",
    "\n",
    "print(results)\n",
    "\n",
    "print(\"best combo:\")\n",
    "print(max_combo)"
   ]
  }
 ],
 "metadata": {
  "interpreter": {
   "hash": "0d892fe944fab35a839fdec4f9b824119b9f9959fa75f3c815359e2a32e3de07"
  },
  "kernelspec": {
   "display_name": "Python 3",
   "language": "python",
   "name": "python3"
  },
  "language_info": {
   "codemirror_mode": {
    "name": "ipython",
    "version": 3
   },
   "file_extension": ".py",
   "mimetype": "text/x-python",
   "name": "python",
   "nbconvert_exporter": "python",
   "pygments_lexer": "ipython3",
   "version": "3.8.12"
  }
 },
 "nbformat": 4,
 "nbformat_minor": 4
}
