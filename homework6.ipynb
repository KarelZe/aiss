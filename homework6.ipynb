{
 "cells": [
  {
   "cell_type": "markdown",
   "id": "3ec494ed",
   "metadata": {},
   "source": [
    "# Homework 6 – Explain the Titanic disaster\n",
    "The titanic dataset is one of the most common introductory problems for data science. For this weeks homework we want you to complete the following tasks:\n",
    "\n",
    "- Load the dataset in the format provided by the seaborn library `sns.load_dataset('titanic')`\n",
    "- Clean the dataset and fix any issues you encounter (e.g., duplicated columns, missing values, ...)\n",
    "- Train a catboost model to predict which passengers will survive. Please report the accuracy of your model.\n",
    "- Use explanation techniques (e.g., SHAP) to discuss who did or did not survive the titanic disaster. Provide at least three visualizations (i.e., explanations) and write down the conclusions you draw from each visualization.\n",
    "\n",
    "**Please make sure:**\n",
    "\n",
    "- Each cell (essential step) is commented on with a short sentence\n",
    "- New variables / fields are output in sufficient length (e.g., df.head(10))\n",
    "- Each of the tasks is answered with a short written statement\n",
    "- Tidy up your code\n",
    "- Coding Area"
   ]
  },
  {
   "cell_type": "markdown",
   "id": "2e75e8b9",
   "metadata": {},
   "source": [
    "## Visualization 1"
   ]
  },
  {
   "cell_type": "code",
   "execution_count": null,
   "id": "dfde493c",
   "metadata": {},
   "outputs": [],
   "source": [
    "# Display the visualization here and provide a short conclusion."
   ]
  },
  {
   "cell_type": "markdown",
   "id": "3c6d9ee1",
   "metadata": {},
   "source": [
    "## Visualization 2"
   ]
  },
  {
   "cell_type": "code",
   "execution_count": null,
   "id": "a137e23e",
   "metadata": {},
   "outputs": [],
   "source": [
    "# Display the visualization here and provide a short conclusion."
   ]
  },
  {
   "cell_type": "markdown",
   "id": "d75306a2",
   "metadata": {},
   "source": [
    "## Visualization 3"
   ]
  },
  {
   "cell_type": "code",
   "execution_count": null,
   "id": "c47ea622",
   "metadata": {},
   "outputs": [],
   "source": [
    "# Display the visualization here and provide a short conclusion."
   ]
  },
  {
   "cell_type": "markdown",
   "id": "586511a2",
   "metadata": {},
   "source": [
    "<hr/>\n",
    "\n",
    "## Coding Area"
   ]
  },
  {
   "cell_type": "code",
   "execution_count": null,
   "id": "8747200c",
   "metadata": {},
   "outputs": [],
   "source": []
  }
 ],
 "metadata": {
  "kernelspec": {
   "display_name": "Python 3 (ipykernel)",
   "language": "python",
   "name": "python3"
  },
  "language_info": {
   "codemirror_mode": {
    "name": "ipython",
    "version": 3
   },
   "file_extension": ".py",
   "mimetype": "text/x-python",
   "name": "python",
   "nbconvert_exporter": "python",
   "pygments_lexer": "ipython3",
   "version": "3.9.7"
  }
 },
 "nbformat": 4,
 "nbformat_minor": 5
}
