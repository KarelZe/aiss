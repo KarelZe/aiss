{
 "cells": [
  {
   "cell_type": "markdown",
   "metadata": {},
   "source": [
    "# Homework 3 – Deployment"
   ]
  },
  {
   "cell_type": "markdown",
   "metadata": {},
   "source": [
    "## Tasks\n",
    "\n",
    "![Iris flower](./data/iris.png)\n",
    "\n",
    "* Import Iris dataset from `./data/iris.csv`.\n",
    "* Create an endpoint `/train` which expects `n_estimators` and `max_depth` attributes of a Random Forest Classifier, trains a model using a Cross Validation, and returns the F1-Score, Precision, Recall and Accuracy.\n",
    "* Create an endpoint `/predict` which expects the four input features (sepal length, sepal width, petal length, petal width) and predicts as well as retuns the iris class using the model from above."
   ]
  },
  {
   "cell_type": "markdown",
   "metadata": {},
   "source": [
    "## Please make sure that the *entire* notebook runs without any errors!\n",
    "## Also, please use the predefined routes with their parameters. "
   ]
  },
  {
   "cell_type": "code",
   "execution_count": 38,
   "metadata": {},
   "outputs": [],
   "source": [
    "from flask import Flask, jsonify, request\n",
    "app = Flask(__name__)\n",
    "\n",
    "import sys\n",
    "\n",
    "import numpy as np\n",
    "import pandas as pd\n",
    "from sklearn.ensemble import RandomForestClassifier\n",
    "from sklearn.model_selection import cross_validate\n",
    "from sklearn.metrics import recall_score, accuracy_score, f1_score, precision_score\n",
    "from sklearn.metrics import make_scorer, SCORERS\n",
    "from sklearn.preprocessing import LabelEncoder"
   ]
  },
  {
   "cell_type": "code",
   "execution_count": 39,
   "metadata": {},
   "outputs": [
    {
     "data": {
      "text/plain": [
       "Iris-virginica     41\n",
       "Iris-versicolor    36\n",
       "Iris-setosa        34\n",
       "Name: target, dtype: int64"
      ]
     },
     "execution_count": 39,
     "metadata": {},
     "output_type": "execute_result"
    }
   ],
   "source": [
    "iris = pd.read_csv(\"./data/iris.csv\",index_col=0)\n",
    "X = iris.iloc[:,:-1]\n",
    "y = iris['target']\n",
    "\n",
    "iris.head()\n",
    "\n",
    "y.value_counts()"
   ]
  },
  {
   "cell_type": "code",
   "execution_count": 40,
   "metadata": {},
   "outputs": [],
   "source": [
    "rf_clf = RandomForestClassifier()\n",
    "le = LabelEncoder()"
   ]
  },
  {
   "cell_type": "code",
   "execution_count": 41,
   "metadata": {},
   "outputs": [],
   "source": [
    "\"\"\"\n",
    "Return the scores with the provided naming convention.\n",
    "Placehorder for your comments:\n",
    "\n",
    "\"\"\"\n",
    "@app.route('/train')\n",
    "def train():\n",
    "    p_n_estimators = int(request.args.get('n_estimators'))\n",
    "    p_max_depth = int(request.args.get('max_depth'))\n",
    "    #Code your solution here\n",
    "    \n",
    "        \n",
    "    iris = pd.read_csv(\"./data/iris.csv\",index_col=0)\n",
    "    X = iris.iloc[:,:-1]\n",
    "    y = iris['target']\n",
    "    y_encoded = le.fit_transform(y)\n",
    "\n",
    "    # set params from bayesian search\n",
    "    params = {'n_estimators': p_n_estimators, 'max_depth': p_max_depth}\n",
    "    rf_clf.set_params(**params)\n",
    "    rf_clf.fit(X,y_encoded)\n",
    "\n",
    "    scoring=('f1_weighted', 'precision_weighted','recall_weighted', 'accuracy')\n",
    "    scores = cross_validate(rf_clf, X, y_encoded, n_jobs=-1, cv=3, scoring=scoring)\n",
    "    \n",
    "    #Paste the matching scores into the fields by replacing the respective \"\"\n",
    "    return jsonify({\n",
    "        'f1_score': f\"{scores['test_f1_weighted'].mean()}\",\n",
    "        'precision': f\"{scores['test_precision_weighted'].mean()}\",\n",
    "        'recall': f\"{scores['test_recall_weighted'].mean()}\",\n",
    "        'accuracy': f\"{scores['test_accuracy'].mean()}\",\n",
    "    })\n"
   ]
  },
  {
   "cell_type": "code",
   "execution_count": 42,
   "metadata": {},
   "outputs": [],
   "source": [
    "\"\"\"\n",
    "Keep the url argument names.\n",
    "sl = sepal length\n",
    "sw = sepal width\n",
    "pl = petal length\n",
    "pw = petal width\n",
    "\n",
    "Also make sure that the returned flowername is matching the naming convention from the dataset. \n",
    "Placehorder for your comments:\n",
    "\n",
    "\"\"\"\n",
    "@app.route('/predict')\n",
    "def predict():\n",
    "    sl = float(request.args.get('sl'))\n",
    "    sw = float(request.args.get('sw'))\n",
    "    pl = float(request.args.get('pl'))\n",
    "    pw = float(request.args.get('pw'))\n",
    "    #Code your solution here\n",
    "    \n",
    "    query = np.array([sl,sw,pl,pw])\n",
    "    query = query.reshape((1,-1))\n",
    "    \n",
    "    prediction = rf_clf.predict(query)\n",
    "\n",
    "    #Return the predicted flower name as string\n",
    "    return le.inverse_transform(prediction)[0]"
   ]
  },
  {
   "cell_type": "markdown",
   "metadata": {},
   "source": [
    "**Train**\n",
    "\n",
    "`get http://localhost:5000/train?n_estimators=100&max_depth=10`\n",
    "\n",
    "**Predict**\n",
    "\n",
    "`get http://localhost:5000/predict?sl=4.9&sw=3.0&pl=1.4&pw=0.2`"
   ]
  },
  {
   "cell_type": "code",
   "execution_count": 44,
   "metadata": {},
   "outputs": [
    {
     "name": "stdout",
     "output_type": "stream",
     "text": [
      " * Serving Flask app \"__main__\" (lazy loading)\n",
      " * Environment: production\n",
      "   WARNING: This is a development server. Do not use it in a production deployment.\n",
      "   Use a production WSGI server instead.\n",
      " * Debug mode: on\n"
     ]
    },
    {
     "name": "stderr",
     "output_type": "stream",
     "text": [
      " * Running on http://0.0.0.0:5000/ (Press CTRL+C to quit)\n",
      "{'fit_time': array([0.16702533, 0.14411831, 0.14806175]), 'score_time': array([0.01603985, 0.01994205, 0.01400161]), 'test_f1_weighted': array([0.97297297, 0.89189189, 0.91903904]), 'test_precision_weighted': array([0.97505198, 0.89189189, 0.92099792]), 'test_recall_weighted': array([0.97297297, 0.89189189, 0.91891892]), 'test_accuracy': array([0.97297297, 0.89189189, 0.91891892])}\n",
      "127.0.0.1 - - [25/Nov/2021 15:02:04] \"\u001b[37mGET /train?n_estimators=100&max_depth=10 HTTP/1.1\u001b[0m\" 200 -\n",
      "127.0.0.1 - - [25/Nov/2021 15:02:04] \"\u001b[33mGET /favicon.ico HTTP/1.1\u001b[0m\" 404 -\n",
      "C:\\Users\\Markus\\anaconda3\\envs\\aiss\\lib\\site-packages\\sklearn\\base.py:445: UserWarning: X does not have valid feature names, but RandomForestClassifier was fitted with feature names\n",
      "  warnings.warn(\n",
      "127.0.0.1 - - [25/Nov/2021 15:02:32] \"\u001b[37mGET /predict?sl=4.9&sw=3.0&pl=1.4&pw=0.2 HTTP/1.1\u001b[0m\" 200 -\n"
     ]
    }
   ],
   "source": [
    "app.run(debug=True, use_reloader=False, host='0.0.0.0', port=5000)"
   ]
  }
 ],
 "metadata": {
  "interpreter": {
   "hash": "73ffac214b531fe93b6d1ea80e27c5e84c119ae5c8a8db8eb999b5abb286f037"
  },
  "kernelspec": {
   "display_name": "Python 3.8.12 64-bit ('aiss': conda)",
   "name": "python3"
  },
  "language_info": {
   "codemirror_mode": {
    "name": "ipython",
    "version": 3
   },
   "file_extension": ".py",
   "mimetype": "text/x-python",
   "name": "python",
   "nbconvert_exporter": "python",
   "pygments_lexer": "ipython3",
   "version": "3.8.12"
  }
 },
 "nbformat": 4,
 "nbformat_minor": 4
}
