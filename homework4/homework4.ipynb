{
 "cells": [
  {
   "cell_type": "markdown",
   "metadata": {},
   "source": [
    "# Homework 4 - Concept Drift"
   ]
  },
  {
   "cell_type": "markdown",
   "metadata": {},
   "source": [
    "Load the SEA dataset (\"sea.csv\"). It has three features and one target column.\n",
    "\n",
    "## Tasks\n",
    "1. Train a [SVM classifier](https://scikit-learn.org/stable/modules/svm.html) (gamma = 0.01) with the first 10000 samples of the stream. Subsequently, evaluate it on the remaining data instances. What [score](https://scikit-learn.org/stable/modules/generated/sklearn.svm.SVC.html#sklearn.svm.SVC.score) do you achieve on the train and the test set? <br /> <br />\n",
    "2. Implement a Page Hinkley change detection on the datastream. Again use the first 10000 data instances for the first model training. Retrain the model when a change is detected. How many drifts do you detect in the data? Plot the score curve and also the drift detection points. Use lambda = 0.01 and batch size = 1000 for each data sample (`stream.next_sample()`) <br /> <br />\n",
    "3. Perform a grid search on the whole dataset with the following paramters:  <br /> <br />  **Page-Hinkley:** lambda = [0.01, 0.05, 0.1, 1]  <br /> **SVM:** svm_gamma = [0.01, 0.1]  <br /> <br /> Use the first 10000 samples for the initial training and then a batch-size of 1000 samples for iterative evaluation. Print the prediction accuracy for each parameter pair. What is the best parameter pair? *Hint: You have to implement GridSearch manually.*"
   ]
  },
  {
   "cell_type": "markdown",
   "metadata": {},
   "source": [
    "## Solution 1"
   ]
  },
  {
   "cell_type": "code",
   "execution_count": null,
   "metadata": {},
   "outputs": [],
   "source": [
    "import pandas as pd\n",
    "from sklearn.svm import SVC\n",
    "\n",
    "\"\"\"\n",
    "Placehorder for comments:\n",
    "\n",
    "\"\"\"\n",
    "def seaSVM():\n",
    "    df = pd.read_csv(\"data/sea.csv\")\n",
    "    #Code your solution here\n",
    "\n",
    "\n",
    "    #Return your scores here\n",
    "    return {\"train-score\":0, \"test-score\":0}\n",
    "seaSVM()"
   ]
  },
  {
   "cell_type": "markdown",
   "metadata": {},
   "source": [
    "## Solution 2\n",
    "You **do not** have to put your code in this function. Just make sure that the image of your plot is saved by the provided command and you return the amount of drift points.\n",
    "\n",
    "The plot should contain: \n",
    "- Page Hinkley Scores\n",
    "- A visual represenation of the breakpoints\n",
    "\n",
    "You can save the plot by using `plt.savefig(\"plot.png\")`.\n"
   ]
  },
  {
   "cell_type": "code",
   "execution_count": null,
   "metadata": {},
   "outputs": [],
   "source": [
    "\"\"\"\n",
    "Placehorder for comments:\n",
    "\n",
    "\"\"\"\n",
    "\n",
    "def phBreakPoints():\n",
    "    # Replace 0 by the number of detected drifts \n",
    "    return 0\n",
    "    "
   ]
  },
  {
   "cell_type": "markdown",
   "metadata": {},
   "source": [
    "## Solution 3"
   ]
  },
  {
   "cell_type": "code",
   "execution_count": null,
   "metadata": {},
   "outputs": [],
   "source": [
    "\"\"\"\n",
    "Its sufficient if you only return the best parameters and leave your solution in the playground area.\n",
    "Placehorder for comments:\n",
    "\n",
    "\"\"\"\n",
    "\n",
    "def bestSMVParams():\n",
    "    # Replace the 0's, leave your code in the playground area\n",
    "    return {\"lambda\": 0, \"gamma\": 0}\n",
    "    "
   ]
  },
  {
   "cell_type": "markdown",
   "metadata": {},
   "source": [
    "<hr>\n",
    "\n",
    "# Playground\n"
   ]
  },
  {
   "cell_type": "code",
   "execution_count": null,
   "metadata": {},
   "outputs": [],
   "source": []
  }
 ],
 "metadata": {
  "interpreter": {
   "hash": "0d892fe944fab35a839fdec4f9b824119b9f9959fa75f3c815359e2a32e3de07"
  },
  "kernelspec": {
   "display_name": "Python 3",
   "language": "python",
   "name": "python3"
  },
  "language_info": {
   "codemirror_mode": {
    "name": "ipython",
    "version": 3
   },
   "file_extension": ".py",
   "mimetype": "text/x-python",
   "name": "python",
   "nbconvert_exporter": "python",
   "pygments_lexer": "ipython3",
   "version": "3.8.12"
  }
 },
 "nbformat": 4,
 "nbformat_minor": 4
}
