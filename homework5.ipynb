{
 "cells": [
  {
   "cell_type": "markdown",
   "metadata": {},
   "source": [
    "# Homework 5 – Analysis of distributed data sources"
   ]
  },
  {
   "cell_type": "markdown",
   "metadata": {},
   "source": [
    "In the dataset we already used in the exercise, there is another target attribute: `age`. Apply your learnings on this new target and assess the performance of each classifier.\n",
    "\n",
    "1. Build and test a text classifier targeting the age of a user according their age classes (0-10, 11-20, 21-30, 31+).\n",
    "\n",
    "2. Build a ML name classifier that classifies the age of a user according their age classes (0-10, 11-20, 21-30, 31+).\n",
    "\n",
    "3. Build a meta classifier that combines the previously built classifiers based on their age classes (0-10, 11-20, 21-30, 31+).\n",
    "\n",
    "As introduced in a previous homework, please save each classifier with the following command: `dump(tree_clf, 'clf1.joblib')`.<br/> Name them `clf1.joblib`, `clf2.joblib` and `clf3.joblib`. \n"
   ]
  },
  {
   "cell_type": "markdown",
   "metadata": {},
   "source": [
    "**Please make sure:**\n",
    "\n",
    "- Each cell (essential step) is commented on with a short sentence\n",
    "- New variables / fields are output in sufficient length (e.g., `df.head(10)`)\n",
    "- Each of the tasks is answered with a short written statement\n",
    "- Tidy up your code\n",
    "\n",
    "There are no defined functions, we expect you to structure your code on your own (functions are not mandatory). Don't forget to upload the joblibs next to your notebook! "
   ]
  },
  {
   "cell_type": "markdown",
   "metadata": {},
   "source": [
    "<hr/>\n",
    "\n",
    "## Coding Area"
   ]
  },
  {
   "cell_type": "code",
   "execution_count": 481,
   "metadata": {},
   "outputs": [],
   "source": [
    "import numpy as np\n",
    "import pandas as pd\n",
    "import matplotlib.pyplot as plt\n",
    "%matplotlib inline  \n",
    "from sklearn.model_selection import train_test_split\n",
    "from sklearn.naive_bayes import MultinomialNB as bayes\n",
    "from sklearn.feature_extraction.text import CountVectorizer as countvec\n",
    "from sklearn.ensemble import RandomForestClassifier \n",
    "from joblib import dump\n",
    "import unidecode\n",
    "import re"
   ]
  },
  {
   "cell_type": "code",
   "execution_count": 482,
   "metadata": {},
   "outputs": [
    {
     "data": {
      "text/plain": [
       "(2916, 6)"
      ]
     },
     "execution_count": 482,
     "metadata": {},
     "output_type": "execute_result"
    }
   ],
   "source": [
    "data = pd.read_pickle('data/twitterData.pkl')\n",
    "data.shape"
   ]
  },
  {
   "cell_type": "code",
   "execution_count": 483,
   "metadata": {},
   "outputs": [
    {
     "data": {
      "text/html": [
       "<div>\n",
       "<style scoped>\n",
       "    .dataframe tbody tr th:only-of-type {\n",
       "        vertical-align: middle;\n",
       "    }\n",
       "\n",
       "    .dataframe tbody tr th {\n",
       "        vertical-align: top;\n",
       "    }\n",
       "\n",
       "    .dataframe thead th {\n",
       "        text-align: right;\n",
       "    }\n",
       "</style>\n",
       "<table border=\"1\" class=\"dataframe\">\n",
       "  <thead>\n",
       "    <tr style=\"text-align: right;\">\n",
       "      <th></th>\n",
       "      <th>screen_name</th>\n",
       "      <th>name</th>\n",
       "      <th>tweets_concatenated</th>\n",
       "      <th>avatar_url</th>\n",
       "      <th>gender</th>\n",
       "      <th>age</th>\n",
       "      <th>age_class</th>\n",
       "    </tr>\n",
       "  </thead>\n",
       "  <tbody>\n",
       "    <tr>\n",
       "      <th>0</th>\n",
       "      <td>DatZerooo</td>\n",
       "      <td>David</td>\n",
       "      <td>Warum riecht mein Bruder nach Pizza wenn er ei...</td>\n",
       "      <td>http://pbs.twimg.com/profile_images/7569661512...</td>\n",
       "      <td>M</td>\n",
       "      <td>16.0</td>\n",
       "      <td>1.0</td>\n",
       "    </tr>\n",
       "    <tr>\n",
       "      <th>0</th>\n",
       "      <td>reap705</td>\n",
       "      <td>Oliver Gast</td>\n",
       "      <td>[CSS] Ein Off-canvas-Menü mit Dropdown-Navigat...</td>\n",
       "      <td>http://pbs.twimg.com/profile_images/1366984169...</td>\n",
       "      <td>M</td>\n",
       "      <td>15.0</td>\n",
       "      <td>1.0</td>\n",
       "    </tr>\n",
       "    <tr>\n",
       "      <th>0</th>\n",
       "      <td>Dossary1995</td>\n",
       "      <td>Khalid Aldossary</td>\n",
       "      <td></td>\n",
       "      <td>http://pbs.twimg.com/profile_images/4167523242...</td>\n",
       "      <td>M</td>\n",
       "      <td>37.0</td>\n",
       "      <td>3.0</td>\n",
       "    </tr>\n",
       "    <tr>\n",
       "      <th>0</th>\n",
       "      <td>eduUu06</td>\n",
       "      <td>eduUu</td>\n",
       "      <td>heut abend kogge und morgen endlich haare ab :...</td>\n",
       "      <td>http://pbs.twimg.com/profile_images/896480580/...</td>\n",
       "      <td>M</td>\n",
       "      <td>46.0</td>\n",
       "      <td>4.0</td>\n",
       "    </tr>\n",
       "    <tr>\n",
       "      <th>0</th>\n",
       "      <td>Narutofreak935</td>\n",
       "      <td>Avengar</td>\n",
       "      <td>@GrandlineTV gib nicht auf und mach dein Ding ...</td>\n",
       "      <td>http://pbs.twimg.com/profile_images/7317971734...</td>\n",
       "      <td>F</td>\n",
       "      <td>19.0</td>\n",
       "      <td>1.0</td>\n",
       "    </tr>\n",
       "    <tr>\n",
       "      <th>0</th>\n",
       "      <td>miley_sarah</td>\n",
       "      <td>Sarah</td>\n",
       "      <td>RT @bomelino: Das \"Backe, backe Kuchen\"-Lied i...</td>\n",
       "      <td>http://pbs.twimg.com/profile_images/7584397626...</td>\n",
       "      <td>M</td>\n",
       "      <td>18.0</td>\n",
       "      <td>1.0</td>\n",
       "    </tr>\n",
       "    <tr>\n",
       "      <th>0</th>\n",
       "      <td>DerIncubus</td>\n",
       "      <td>Der Incubus</td>\n",
       "      <td>@NicoleAllm Na ... gut ins neue Jahr gestartet...</td>\n",
       "      <td>http://pbs.twimg.com/profile_images/5808649200...</td>\n",
       "      <td>F</td>\n",
       "      <td>22.0</td>\n",
       "      <td>2.0</td>\n",
       "    </tr>\n",
       "    <tr>\n",
       "      <th>0</th>\n",
       "      <td>Petouser</td>\n",
       "      <td>ペトユサ (Petoyusa)</td>\n",
       "      <td>Verschwörungstheorie: Pokemon Go wird von der ...</td>\n",
       "      <td>http://pbs.twimg.com/profile_images/6626943925...</td>\n",
       "      <td>M</td>\n",
       "      <td>26.0</td>\n",
       "      <td>2.0</td>\n",
       "    </tr>\n",
       "    <tr>\n",
       "      <th>0</th>\n",
       "      <td>ChrisWhite126</td>\n",
       "      <td>Chris White</td>\n",
       "      <td>Ach du scheiße ist das warm. :( Hab locker 5kg...</td>\n",
       "      <td>http://pbs.twimg.com/profile_images/6463341220...</td>\n",
       "      <td>M</td>\n",
       "      <td>37.0</td>\n",
       "      <td>3.0</td>\n",
       "    </tr>\n",
       "    <tr>\n",
       "      <th>0</th>\n",
       "      <td>MusicFreakFever</td>\n",
       "      <td>Nadine (:</td>\n",
       "      <td>Heute nur DREI (!) Schulstunden !\\n Ich LIIIIE...</td>\n",
       "      <td>http://pbs.twimg.com/profile_images/3788000003...</td>\n",
       "      <td>M</td>\n",
       "      <td>15.0</td>\n",
       "      <td>1.0</td>\n",
       "    </tr>\n",
       "    <tr>\n",
       "      <th>0</th>\n",
       "      <td>LukasAlthoff</td>\n",
       "      <td>Luk Alt</td>\n",
       "      <td>RT @cem_oezdemir: #Pazar will mir eine Ehrenbü...</td>\n",
       "      <td>http://pbs.twimg.com/profile_images/5035102215...</td>\n",
       "      <td>F</td>\n",
       "      <td>30.0</td>\n",
       "      <td>3.0</td>\n",
       "    </tr>\n",
       "    <tr>\n",
       "      <th>0</th>\n",
       "      <td>TheRPunkt</td>\n",
       "      <td>TheRPunkt</td>\n",
       "      <td>Viel Spaß mit der 41. Folge von #LetsPlay http...</td>\n",
       "      <td>http://pbs.twimg.com/profile_images/7467002138...</td>\n",
       "      <td>M</td>\n",
       "      <td>17.0</td>\n",
       "      <td>1.0</td>\n",
       "    </tr>\n",
       "    <tr>\n",
       "      <th>0</th>\n",
       "      <td>derandroidpro</td>\n",
       "      <td>Der Android Pro</td>\n",
       "      <td>Programmieren für meinen neuen Arduino Nano Mi...</td>\n",
       "      <td>http://pbs.twimg.com/profile_images/6021517213...</td>\n",
       "      <td>M</td>\n",
       "      <td>17.0</td>\n",
       "      <td>1.0</td>\n",
       "    </tr>\n",
       "    <tr>\n",
       "      <th>0</th>\n",
       "      <td>KernNorman</td>\n",
       "      <td>Norman Kern</td>\n",
       "      <td></td>\n",
       "      <td>http://pbs.twimg.com/profile_images/576106140/...</td>\n",
       "      <td>M</td>\n",
       "      <td>18.0</td>\n",
       "      <td>1.0</td>\n",
       "    </tr>\n",
       "    <tr>\n",
       "      <th>0</th>\n",
       "      <td>ecschenke</td>\n",
       "      <td>E.C. Schenke</td>\n",
       "      <td>Registered SkyBuddy game players get a chance ...</td>\n",
       "      <td>http://pbs.twimg.com/profile_images/1626127505...</td>\n",
       "      <td>M</td>\n",
       "      <td>22.0</td>\n",
       "      <td>2.0</td>\n",
       "    </tr>\n",
       "    <tr>\n",
       "      <th>0</th>\n",
       "      <td>Firenism</td>\n",
       "      <td>Jannik</td>\n",
       "      <td>Geiles Wetter, aber der blaue Himmel fehlt||Na...</td>\n",
       "      <td>http://pbs.twimg.com/profile_images/737691817/...</td>\n",
       "      <td>F</td>\n",
       "      <td>15.0</td>\n",
       "      <td>1.0</td>\n",
       "    </tr>\n",
       "    <tr>\n",
       "      <th>0</th>\n",
       "      <td>ALYSHAFlossdor2</td>\n",
       "      <td>ALYSHA Flossdorf</td>\n",
       "      <td>@Raja9655S joa und bei dir||@Raja9655S hi||Lol...</td>\n",
       "      <td>http://pbs.twimg.com/profile_images/5604375339...</td>\n",
       "      <td>M</td>\n",
       "      <td>18.0</td>\n",
       "      <td>1.0</td>\n",
       "    </tr>\n",
       "    <tr>\n",
       "      <th>0</th>\n",
       "      <td>MichaelClaus1</td>\n",
       "      <td>Michael Claus</td>\n",
       "      <td></td>\n",
       "      <td>http://pbs.twimg.com/profile_images/5353147890...</td>\n",
       "      <td>F</td>\n",
       "      <td>22.0</td>\n",
       "      <td>2.0</td>\n",
       "    </tr>\n",
       "    <tr>\n",
       "      <th>0</th>\n",
       "      <td>Nidocon</td>\n",
       "      <td>Nico</td>\n",
       "      <td>@ShatroFTW Ah okay, hört sich nicht schlecht a...</td>\n",
       "      <td>http://pbs.twimg.com/profile_images/7206769551...</td>\n",
       "      <td>M</td>\n",
       "      <td>20.0</td>\n",
       "      <td>2.0</td>\n",
       "    </tr>\n",
       "    <tr>\n",
       "      <th>0</th>\n",
       "      <td>chocolade97</td>\n",
       "      <td>♥</td>\n",
       "      <td>Welches Essen war so gut, dass es dir nicht me...</td>\n",
       "      <td>http://pbs.twimg.com/profile_images/3130705866...</td>\n",
       "      <td>M</td>\n",
       "      <td>53.0</td>\n",
       "      <td>5.0</td>\n",
       "    </tr>\n",
       "  </tbody>\n",
       "</table>\n",
       "</div>"
      ],
      "text/plain": [
       "       screen_name              name  \\\n",
       "0        DatZerooo             David   \n",
       "0          reap705       Oliver Gast   \n",
       "0      Dossary1995  Khalid Aldossary   \n",
       "0          eduUu06             eduUu   \n",
       "0   Narutofreak935           Avengar   \n",
       "0      miley_sarah             Sarah   \n",
       "0       DerIncubus       Der Incubus   \n",
       "0         Petouser   ペトユサ (Petoyusa)   \n",
       "0    ChrisWhite126       Chris White   \n",
       "0  MusicFreakFever         Nadine (:   \n",
       "0     LukasAlthoff           Luk Alt   \n",
       "0        TheRPunkt         TheRPunkt   \n",
       "0    derandroidpro   Der Android Pro   \n",
       "0       KernNorman       Norman Kern   \n",
       "0        ecschenke      E.C. Schenke   \n",
       "0         Firenism            Jannik   \n",
       "0  ALYSHAFlossdor2  ALYSHA Flossdorf   \n",
       "0    MichaelClaus1     Michael Claus   \n",
       "0          Nidocon              Nico   \n",
       "0      chocolade97                 ♥   \n",
       "\n",
       "                                 tweets_concatenated  \\\n",
       "0  Warum riecht mein Bruder nach Pizza wenn er ei...   \n",
       "0  [CSS] Ein Off-canvas-Menü mit Dropdown-Navigat...   \n",
       "0                                                      \n",
       "0  heut abend kogge und morgen endlich haare ab :...   \n",
       "0  @GrandlineTV gib nicht auf und mach dein Ding ...   \n",
       "0  RT @bomelino: Das \"Backe, backe Kuchen\"-Lied i...   \n",
       "0  @NicoleAllm Na ... gut ins neue Jahr gestartet...   \n",
       "0  Verschwörungstheorie: Pokemon Go wird von der ...   \n",
       "0  Ach du scheiße ist das warm. :( Hab locker 5kg...   \n",
       "0  Heute nur DREI (!) Schulstunden !\\n Ich LIIIIE...   \n",
       "0  RT @cem_oezdemir: #Pazar will mir eine Ehrenbü...   \n",
       "0  Viel Spaß mit der 41. Folge von #LetsPlay http...   \n",
       "0  Programmieren für meinen neuen Arduino Nano Mi...   \n",
       "0                                                      \n",
       "0  Registered SkyBuddy game players get a chance ...   \n",
       "0  Geiles Wetter, aber der blaue Himmel fehlt||Na...   \n",
       "0  @Raja9655S joa und bei dir||@Raja9655S hi||Lol...   \n",
       "0                                                      \n",
       "0  @ShatroFTW Ah okay, hört sich nicht schlecht a...   \n",
       "0  Welches Essen war so gut, dass es dir nicht me...   \n",
       "\n",
       "                                          avatar_url gender   age  age_class  \n",
       "0  http://pbs.twimg.com/profile_images/7569661512...      M  16.0        1.0  \n",
       "0  http://pbs.twimg.com/profile_images/1366984169...      M  15.0        1.0  \n",
       "0  http://pbs.twimg.com/profile_images/4167523242...      M  37.0        3.0  \n",
       "0  http://pbs.twimg.com/profile_images/896480580/...      M  46.0        4.0  \n",
       "0  http://pbs.twimg.com/profile_images/7317971734...      F  19.0        1.0  \n",
       "0  http://pbs.twimg.com/profile_images/7584397626...      M  18.0        1.0  \n",
       "0  http://pbs.twimg.com/profile_images/5808649200...      F  22.0        2.0  \n",
       "0  http://pbs.twimg.com/profile_images/6626943925...      M  26.0        2.0  \n",
       "0  http://pbs.twimg.com/profile_images/6463341220...      M  37.0        3.0  \n",
       "0  http://pbs.twimg.com/profile_images/3788000003...      M  15.0        1.0  \n",
       "0  http://pbs.twimg.com/profile_images/5035102215...      F  30.0        3.0  \n",
       "0  http://pbs.twimg.com/profile_images/7467002138...      M  17.0        1.0  \n",
       "0  http://pbs.twimg.com/profile_images/6021517213...      M  17.0        1.0  \n",
       "0  http://pbs.twimg.com/profile_images/576106140/...      M  18.0        1.0  \n",
       "0  http://pbs.twimg.com/profile_images/1626127505...      M  22.0        2.0  \n",
       "0  http://pbs.twimg.com/profile_images/737691817/...      F  15.0        1.0  \n",
       "0  http://pbs.twimg.com/profile_images/5604375339...      M  18.0        1.0  \n",
       "0  http://pbs.twimg.com/profile_images/5353147890...      F  22.0        2.0  \n",
       "0  http://pbs.twimg.com/profile_images/7206769551...      M  20.0        2.0  \n",
       "0  http://pbs.twimg.com/profile_images/3130705866...      M  53.0        5.0  "
      ]
     },
     "execution_count": 483,
     "metadata": {},
     "output_type": "execute_result"
    }
   ],
   "source": [
    "# get age class by floor div e. g. 31 // 10 = 3\n",
    "data['age_class'] = data['age'].floordiv(10)\n",
    "data.head(20)"
   ]
  },
  {
   "cell_type": "code",
   "execution_count": 484,
   "metadata": {},
   "outputs": [
    {
     "data": {
      "text/plain": [
       "1607"
      ]
     },
     "execution_count": 484,
     "metadata": {},
     "output_type": "execute_result"
    }
   ],
   "source": [
    "data['age'].isna().sum()"
   ]
  },
  {
   "cell_type": "code",
   "execution_count": 485,
   "metadata": {},
   "outputs": [
    {
     "data": {
      "text/plain": [
       "(1309, 7)"
      ]
     },
     "execution_count": 485,
     "metadata": {},
     "output_type": "execute_result"
    }
   ],
   "source": [
    "data = data[data['age_class'].notna()]\n",
    "data.shape"
   ]
  },
  {
   "cell_type": "code",
   "execution_count": 486,
   "metadata": {},
   "outputs": [
    {
     "data": {
      "text/plain": [
       "<AxesSubplot:>"
      ]
     },
     "execution_count": 486,
     "metadata": {},
     "output_type": "execute_result"
    },
    {
     "data": {
      "image/png": "[encoded data removed]",
      "text/plain": [
       "<Figure size 432x288 with 1 Axes>"
      ]
     },
     "metadata": {
      "needs_background": "light"
     },
     "output_type": "display_data"
    }
   ],
   "source": [
    "\n",
    "data['age_class'].hist()"
   ]
  },
  {
   "cell_type": "code",
   "execution_count": 487,
   "metadata": {},
   "outputs": [],
   "source": [
    "# adapted from here https://stackoverflow.com/a/58356570/5755604\n",
    "def remove_emojis(data):\n",
    "    emoj = re.compile(\"[\"\n",
    "        u\"\\U0001F600-\\U0001F64F\"  # emoticons\n",
    "        u\"\\U0001F300-\\U0001F5FF\"  # symbols & pictographs\n",
    "        u\"\\U0001F680-\\U0001F6FF\"  # transport & map symbols\n",
    "        u\"\\U0001F1E0-\\U0001F1FF\"  # flags (iOS)\n",
    "        u\"\\U00002500-\\U00002BEF\"  # chinese char\n",
    "        u\"\\U00002702-\\U000027B0\"\n",
    "        u\"\\U00002702-\\U000027B0\"\n",
    "        u\"\\U000024C2-\\U0001F251\"\n",
    "        u\"\\U0001f926-\\U0001f937\"\n",
    "        u\"\\U00010000-\\U0010ffff\"\n",
    "        u\"\\u2640-\\u2642\" \n",
    "        u\"\\u2600-\\u2B55\"\n",
    "        u\"\\u200d\"\n",
    "        u\"\\u23cf\"\n",
    "        u\"\\u23e9\"\n",
    "        u\"\\u231a\"\n",
    "        u\"\\ufe0f\"  # dingbats\n",
    "        u\"\\u3030\"\n",
    "                      \"]+\", re.UNICODE)\n",
    "    return re.sub(emoj, '', data)"
   ]
  },
  {
   "cell_type": "code",
   "execution_count": 488,
   "metadata": {},
   "outputs": [],
   "source": [
    "def sanitize_str(dirty_str):\n",
    "\n",
    "    # prüfe auf None https://stackoverflow.com/a/18689712\n",
    "    if pd.isnull(dirty_str):\n",
    "        return\n",
    "\n",
    "    # entferne Satzzeichen, ähnlich zu 'string.punctation' aber weniger restriktiv z. B. # oder &\n",
    "    punctuation = r\"\"\"\\\"$%&'()*+,-./:;<=>[\\]^_`{|}~0123456789\"\"\"\n",
    "    san_str = dirty_str.translate(str.maketrans('', '', punctuation))\n",
    "\n",
    "    # ersetze Umlaute, Akzente etc. durch Ascii-Entsprechung\n",
    "    san_str = unidecode.unidecode(san_str)\n",
    "\n",
    "    # entferne mehrere Leerschritte\n",
    "    san_str = \" \".join(san_str.split())\n",
    "\n",
    "    # wenn str leer ist, ersetze durch None\n",
    "    if not san_str:\n",
    "        return \"\"\n",
    "    else:\n",
    "        \n",
    "        return san_str"
   ]
  },
  {
   "cell_type": "code",
   "execution_count": 489,
   "metadata": {},
   "outputs": [
    {
     "data": {
      "text/html": [
       "<div>\n",
       "<style scoped>\n",
       "    .dataframe tbody tr th:only-of-type {\n",
       "        vertical-align: middle;\n",
       "    }\n",
       "\n",
       "    .dataframe tbody tr th {\n",
       "        vertical-align: top;\n",
       "    }\n",
       "\n",
       "    .dataframe thead th {\n",
       "        text-align: right;\n",
       "    }\n",
       "</style>\n",
       "<table border=\"1\" class=\"dataframe\">\n",
       "  <thead>\n",
       "    <tr style=\"text-align: right;\">\n",
       "      <th></th>\n",
       "      <th>screen_name</th>\n",
       "      <th>name</th>\n",
       "      <th>tweets_concatenated</th>\n",
       "      <th>avatar_url</th>\n",
       "      <th>gender</th>\n",
       "      <th>age</th>\n",
       "      <th>age_class</th>\n",
       "    </tr>\n",
       "  </thead>\n",
       "  <tbody>\n",
       "    <tr>\n",
       "      <th>0</th>\n",
       "      <td>DatZerooo</td>\n",
       "      <td>David</td>\n",
       "      <td>Warum riecht mein Bruder nach Pizza wenn er ei...</td>\n",
       "      <td>http://pbs.twimg.com/profile_images/7569661512...</td>\n",
       "      <td>M</td>\n",
       "      <td>16.0</td>\n",
       "      <td>1.0</td>\n",
       "    </tr>\n",
       "    <tr>\n",
       "      <th>0</th>\n",
       "      <td>reap705</td>\n",
       "      <td>Oliver Gast</td>\n",
       "      <td>CSS Ein OffcanvasMenu mit DropdownNavigation p...</td>\n",
       "      <td>http://pbs.twimg.com/profile_images/1366984169...</td>\n",
       "      <td>M</td>\n",
       "      <td>15.0</td>\n",
       "      <td>1.0</td>\n",
       "    </tr>\n",
       "    <tr>\n",
       "      <th>0</th>\n",
       "      <td>eduUu06</td>\n",
       "      <td>eduUu</td>\n",
       "      <td>heut abend kogge und morgen endlich haare ab P...</td>\n",
       "      <td>http://pbs.twimg.com/profile_images/896480580/...</td>\n",
       "      <td>M</td>\n",
       "      <td>46.0</td>\n",
       "      <td>4.0</td>\n",
       "    </tr>\n",
       "    <tr>\n",
       "      <th>0</th>\n",
       "      <td>Narutofreak935</td>\n",
       "      <td>Avengar</td>\n",
       "      <td>@GrandlineTV gib nicht auf und mach dein Ding ...</td>\n",
       "      <td>http://pbs.twimg.com/profile_images/7317971734...</td>\n",
       "      <td>F</td>\n",
       "      <td>19.0</td>\n",
       "      <td>1.0</td>\n",
       "    </tr>\n",
       "    <tr>\n",
       "      <th>0</th>\n",
       "      <td>miley_sarah</td>\n",
       "      <td>Sarah</td>\n",
       "      <td>RT @bomelino Das Backe backe KuchenLied ist ei...</td>\n",
       "      <td>http://pbs.twimg.com/profile_images/7584397626...</td>\n",
       "      <td>M</td>\n",
       "      <td>18.0</td>\n",
       "      <td>1.0</td>\n",
       "    </tr>\n",
       "    <tr>\n",
       "      <th>0</th>\n",
       "      <td>DerIncubus</td>\n",
       "      <td>Der Incubus</td>\n",
       "      <td>@NicoleAllm Na gut ins neue Jahr gestartet?RT ...</td>\n",
       "      <td>http://pbs.twimg.com/profile_images/5808649200...</td>\n",
       "      <td>F</td>\n",
       "      <td>22.0</td>\n",
       "      <td>2.0</td>\n",
       "    </tr>\n",
       "    <tr>\n",
       "      <th>0</th>\n",
       "      <td>Petouser</td>\n",
       "      <td>Petoyusa</td>\n",
       "      <td>Verschworungstheorie Pokemon Go wird von der S...</td>\n",
       "      <td>http://pbs.twimg.com/profile_images/6626943925...</td>\n",
       "      <td>M</td>\n",
       "      <td>26.0</td>\n",
       "      <td>2.0</td>\n",
       "    </tr>\n",
       "    <tr>\n",
       "      <th>0</th>\n",
       "      <td>ChrisWhite126</td>\n",
       "      <td>Chris White</td>\n",
       "      <td>Ach du scheisse ist das warm Hab locker kg ver...</td>\n",
       "      <td>http://pbs.twimg.com/profile_images/6463341220...</td>\n",
       "      <td>M</td>\n",
       "      <td>37.0</td>\n",
       "      <td>3.0</td>\n",
       "    </tr>\n",
       "    <tr>\n",
       "      <th>0</th>\n",
       "      <td>MusicFreakFever</td>\n",
       "      <td>Nadine</td>\n",
       "      <td>Heute nur DREI ! Schulstunden ! Ich LIIIIEBE L...</td>\n",
       "      <td>http://pbs.twimg.com/profile_images/3788000003...</td>\n",
       "      <td>M</td>\n",
       "      <td>15.0</td>\n",
       "      <td>1.0</td>\n",
       "    </tr>\n",
       "    <tr>\n",
       "      <th>0</th>\n",
       "      <td>LukasAlthoff</td>\n",
       "      <td>Luk Alt</td>\n",
       "      <td>RT @cemoezdemir #Pazar will mir eine Ehrenburg...</td>\n",
       "      <td>http://pbs.twimg.com/profile_images/5035102215...</td>\n",
       "      <td>F</td>\n",
       "      <td>30.0</td>\n",
       "      <td>3.0</td>\n",
       "    </tr>\n",
       "  </tbody>\n",
       "</table>\n",
       "</div>"
      ],
      "text/plain": [
       "       screen_name         name  \\\n",
       "0        DatZerooo        David   \n",
       "0          reap705  Oliver Gast   \n",
       "0          eduUu06        eduUu   \n",
       "0   Narutofreak935      Avengar   \n",
       "0      miley_sarah        Sarah   \n",
       "0       DerIncubus  Der Incubus   \n",
       "0         Petouser     Petoyusa   \n",
       "0    ChrisWhite126  Chris White   \n",
       "0  MusicFreakFever       Nadine   \n",
       "0     LukasAlthoff      Luk Alt   \n",
       "\n",
       "                                 tweets_concatenated  \\\n",
       "0  Warum riecht mein Bruder nach Pizza wenn er ei...   \n",
       "0  CSS Ein OffcanvasMenu mit DropdownNavigation p...   \n",
       "0  heut abend kogge und morgen endlich haare ab P...   \n",
       "0  @GrandlineTV gib nicht auf und mach dein Ding ...   \n",
       "0  RT @bomelino Das Backe backe KuchenLied ist ei...   \n",
       "0  @NicoleAllm Na gut ins neue Jahr gestartet?RT ...   \n",
       "0  Verschworungstheorie Pokemon Go wird von der S...   \n",
       "0  Ach du scheisse ist das warm Hab locker kg ver...   \n",
       "0  Heute nur DREI ! Schulstunden ! Ich LIIIIEBE L...   \n",
       "0  RT @cemoezdemir #Pazar will mir eine Ehrenburg...   \n",
       "\n",
       "                                          avatar_url gender   age  age_class  \n",
       "0  http://pbs.twimg.com/profile_images/7569661512...      M  16.0        1.0  \n",
       "0  http://pbs.twimg.com/profile_images/1366984169...      M  15.0        1.0  \n",
       "0  http://pbs.twimg.com/profile_images/896480580/...      M  46.0        4.0  \n",
       "0  http://pbs.twimg.com/profile_images/7317971734...      F  19.0        1.0  \n",
       "0  http://pbs.twimg.com/profile_images/7584397626...      M  18.0        1.0  \n",
       "0  http://pbs.twimg.com/profile_images/5808649200...      F  22.0        2.0  \n",
       "0  http://pbs.twimg.com/profile_images/6626943925...      M  26.0        2.0  \n",
       "0  http://pbs.twimg.com/profile_images/6463341220...      M  37.0        3.0  \n",
       "0  http://pbs.twimg.com/profile_images/3788000003...      M  15.0        1.0  \n",
       "0  http://pbs.twimg.com/profile_images/5035102215...      F  30.0        3.0  "
      ]
     },
     "execution_count": 489,
     "metadata": {},
     "output_type": "execute_result"
    }
   ],
   "source": [
    "data.name = data.name.apply(remove_emojis)\n",
    "data.tweets_concatenated = data.tweets_concatenated.apply(remove_emojis)\n",
    "data.name = data.name.apply(sanitize_str)\n",
    "data.tweets_concatenated = data.tweets_concatenated.apply(sanitize_str)\n",
    "\n",
    "data = data[data['tweets_concatenated'] != '']\n",
    "\n",
    "data.head(10)"
   ]
  },
  {
   "cell_type": "code",
   "execution_count": 490,
   "metadata": {},
   "outputs": [
    {
     "name": "stdout",
     "output_type": "stream",
     "text": [
      "(681, 7) (273, 7) (182, 7)\n"
     ]
    }
   ],
   "source": [
    "train_sub, temp = train_test_split(data, test_size=0.4, random_state=42)\n",
    "train_meta, test = train_test_split(temp, test_size=0.4, random_state=42)\n",
    "print(train_sub.shape, train_meta.shape, test.shape)"
   ]
  },
  {
   "cell_type": "code",
   "execution_count": 491,
   "metadata": {},
   "outputs": [],
   "source": [
    "train_sub_tweets = train_sub['tweets_concatenated']\n",
    "train_meta_tweets = train_meta['tweets_concatenated']\n",
    "test_tweets = test['tweets_concatenated']\n",
    "\n",
    "train_sub_names = train_sub['name']\n",
    "train_meta_names = train_meta['name']\n",
    "test_names = test['name']"
   ]
  },
  {
   "cell_type": "code",
   "execution_count": 492,
   "metadata": {},
   "outputs": [],
   "source": [
    "y_train_sub = train_sub['age_class']\n",
    "y_train_meta = train_meta['age_class']\n",
    "y_test = test['age_class']"
   ]
  },
  {
   "cell_type": "code",
   "execution_count": 493,
   "metadata": {},
   "outputs": [
    {
     "data": {
      "text/plain": [
       "0                                          httptcoclbT\n",
       "0    Ach du scheisse ist das warm Hab locker kg ver...\n",
       "0    Morgen Klausurwenn man schon an einem Samstag ...\n",
       "0    Habe nun eine Ps Wer mich gerne adden will Pn ...\n",
       "0    @BibisBeauty nicht im Ernst oRT @dagibee Gerne...\n",
       "0    jetzt ist es cool!!! sound ist gut!!! wenn nic...\n",
       "0    Auf gehts Faden ziehen @izzMaro @xlebhaft kann...\n",
       "0                  meine haare riechen nach beere! hmm\n",
       "0    @BibisBeauty jaa httptcoqjwaBGvPELass die ande...\n",
       "0    In meinen Leben gibt es keine stunde keine Min...\n",
       "0    @ELoTRiXYouTube weisst noch? Dual mit andyich ...\n",
       "0    Gute NachtNachbarschaftsstreit Lebenslange Haf...\n",
       "0    @otasatic Ist nicht schlimm ich kenne das zu g...\n",
       "0    Synology DS photo fur den Apple TV httpstcoZKU...\n",
       "0    Erklarung zu den aktuellen Minecraft Folgen ht...\n",
       "0    @SkyRollo gibt es Geruchte das da was passiert...\n",
       "0    Ich habe es von Anfang an gewusst! #GameofThro...\n",
       "0    Bald Abendbrotzeit Wen wurdet ihr wahlen Obama...\n",
       "0    Pokemon Go Es ist soweit wer Pokemon GO bis je...\n",
       "0    @justinbieber @WarnhoffAlina httpstcoxvTyNxGWs...\n",
       "Name: tweets_concatenated, dtype: object"
      ]
     },
     "execution_count": 493,
     "metadata": {},
     "output_type": "execute_result"
    }
   ],
   "source": [
    "train_sub_tweets.head(20)"
   ]
  },
  {
   "cell_type": "code",
   "execution_count": 494,
   "metadata": {},
   "outputs": [
    {
     "data": {
      "text/plain": [
       "0         Maja Specht\n",
       "0         Chris White\n",
       "0            Jule Sch\n",
       "0              Haitah\n",
       "0                Jana\n",
       "0         Henryk Mura\n",
       "0              Marcel\n",
       "0    vanessa buchwald\n",
       "0       Kim Palazzini\n",
       "0     Patrick Gunther\n",
       "Name: name, dtype: object"
      ]
     },
     "execution_count": 494,
     "metadata": {},
     "output_type": "execute_result"
    }
   ],
   "source": [
    "train_sub_names.head(10)"
   ]
  },
  {
   "cell_type": "code",
   "execution_count": 495,
   "metadata": {},
   "outputs": [
    {
     "data": {
      "text/plain": [
       "0    1.0\n",
       "0    3.0\n",
       "0    2.0\n",
       "0    2.0\n",
       "Name: age_class, dtype: float64"
      ]
     },
     "execution_count": 495,
     "metadata": {},
     "output_type": "execute_result"
    }
   ],
   "source": [
    "y_train_sub.head(4)"
   ]
  },
  {
   "cell_type": "code",
   "execution_count": 496,
   "metadata": {},
   "outputs": [],
   "source": [
    "countvectorizer_tweets = countvec()\n",
    "x_train_sub_tweets = countvectorizer_tweets.fit_transform(train_sub_tweets)\n",
    "x_train_meta_tweets = countvectorizer_tweets.transform(train_meta_tweets)\n",
    "x_test_tweets = countvectorizer_tweets.transform(test_tweets)"
   ]
  },
  {
   "cell_type": "code",
   "execution_count": 497,
   "metadata": {},
   "outputs": [
    {
     "name": "stderr",
     "output_type": "stream",
     "text": [
      "C:\\Users\\Markus\\anaconda3\\envs\\aiss\\lib\\site-packages\\sklearn\\utils\\deprecation.py:87: FutureWarning: Function get_feature_names is deprecated; get_feature_names is deprecated in 1.0 and will be removed in 1.2. Please use get_feature_names_out instead.\n",
      "  warnings.warn(msg, category=FutureWarning)\n"
     ]
    },
    {
     "data": {
      "text/html": [
       "<div>\n",
       "<style scoped>\n",
       "    .dataframe tbody tr th:only-of-type {\n",
       "        vertical-align: middle;\n",
       "    }\n",
       "\n",
       "    .dataframe tbody tr th {\n",
       "        vertical-align: top;\n",
       "    }\n",
       "\n",
       "    .dataframe thead th {\n",
       "        text-align: right;\n",
       "    }\n",
       "</style>\n",
       "<table border=\"1\" class=\"dataframe\">\n",
       "  <thead>\n",
       "    <tr style=\"text-align: right;\">\n",
       "      <th></th>\n",
       "      <th>23eur</th>\n",
       "      <th>3vhauptsache</th>\n",
       "      <th>5u</th>\n",
       "      <th>_rt</th>\n",
       "      <th>aaa</th>\n",
       "      <th>aaaaa</th>\n",
       "      <th>aaaaaaaaaaaaaaaaah</th>\n",
       "      <th>aaaaaaaaaaaaah</th>\n",
       "      <th>aaaaaaaaaaaah</th>\n",
       "      <th>aaaaaaaaaaahhhhhhhh</th>\n",
       "      <th>...</th>\n",
       "      <th>zwolf</th>\n",
       "      <th>zwolftermann</th>\n",
       "      <th>zwuckel</th>\n",
       "      <th>zyan</th>\n",
       "      <th>zynga</th>\n",
       "      <th>zypern</th>\n",
       "      <th>zz</th>\n",
       "      <th>zzgl</th>\n",
       "      <th>zzt</th>\n",
       "      <th>zzzzz</th>\n",
       "    </tr>\n",
       "  </thead>\n",
       "  <tbody>\n",
       "    <tr>\n",
       "      <th>0</th>\n",
       "      <td>0</td>\n",
       "      <td>0</td>\n",
       "      <td>0</td>\n",
       "      <td>0</td>\n",
       "      <td>0</td>\n",
       "      <td>0</td>\n",
       "      <td>0</td>\n",
       "      <td>0</td>\n",
       "      <td>0</td>\n",
       "      <td>0</td>\n",
       "      <td>...</td>\n",
       "      <td>0</td>\n",
       "      <td>0</td>\n",
       "      <td>0</td>\n",
       "      <td>0</td>\n",
       "      <td>0</td>\n",
       "      <td>0</td>\n",
       "      <td>0</td>\n",
       "      <td>0</td>\n",
       "      <td>0</td>\n",
       "      <td>0</td>\n",
       "    </tr>\n",
       "    <tr>\n",
       "      <th>1</th>\n",
       "      <td>0</td>\n",
       "      <td>0</td>\n",
       "      <td>0</td>\n",
       "      <td>0</td>\n",
       "      <td>0</td>\n",
       "      <td>0</td>\n",
       "      <td>0</td>\n",
       "      <td>0</td>\n",
       "      <td>0</td>\n",
       "      <td>0</td>\n",
       "      <td>...</td>\n",
       "      <td>0</td>\n",
       "      <td>0</td>\n",
       "      <td>0</td>\n",
       "      <td>0</td>\n",
       "      <td>0</td>\n",
       "      <td>0</td>\n",
       "      <td>0</td>\n",
       "      <td>0</td>\n",
       "      <td>0</td>\n",
       "      <td>0</td>\n",
       "    </tr>\n",
       "    <tr>\n",
       "      <th>2</th>\n",
       "      <td>0</td>\n",
       "      <td>0</td>\n",
       "      <td>0</td>\n",
       "      <td>0</td>\n",
       "      <td>0</td>\n",
       "      <td>0</td>\n",
       "      <td>0</td>\n",
       "      <td>0</td>\n",
       "      <td>0</td>\n",
       "      <td>0</td>\n",
       "      <td>...</td>\n",
       "      <td>0</td>\n",
       "      <td>0</td>\n",
       "      <td>0</td>\n",
       "      <td>0</td>\n",
       "      <td>0</td>\n",
       "      <td>0</td>\n",
       "      <td>0</td>\n",
       "      <td>0</td>\n",
       "      <td>0</td>\n",
       "      <td>0</td>\n",
       "    </tr>\n",
       "    <tr>\n",
       "      <th>3</th>\n",
       "      <td>0</td>\n",
       "      <td>0</td>\n",
       "      <td>0</td>\n",
       "      <td>0</td>\n",
       "      <td>0</td>\n",
       "      <td>0</td>\n",
       "      <td>0</td>\n",
       "      <td>0</td>\n",
       "      <td>0</td>\n",
       "      <td>0</td>\n",
       "      <td>...</td>\n",
       "      <td>0</td>\n",
       "      <td>0</td>\n",
       "      <td>0</td>\n",
       "      <td>0</td>\n",
       "      <td>0</td>\n",
       "      <td>0</td>\n",
       "      <td>0</td>\n",
       "      <td>0</td>\n",
       "      <td>0</td>\n",
       "      <td>0</td>\n",
       "    </tr>\n",
       "    <tr>\n",
       "      <th>4</th>\n",
       "      <td>0</td>\n",
       "      <td>0</td>\n",
       "      <td>0</td>\n",
       "      <td>0</td>\n",
       "      <td>0</td>\n",
       "      <td>0</td>\n",
       "      <td>0</td>\n",
       "      <td>0</td>\n",
       "      <td>0</td>\n",
       "      <td>0</td>\n",
       "      <td>...</td>\n",
       "      <td>0</td>\n",
       "      <td>0</td>\n",
       "      <td>0</td>\n",
       "      <td>0</td>\n",
       "      <td>0</td>\n",
       "      <td>0</td>\n",
       "      <td>0</td>\n",
       "      <td>0</td>\n",
       "      <td>0</td>\n",
       "      <td>0</td>\n",
       "    </tr>\n",
       "    <tr>\n",
       "      <th>...</th>\n",
       "      <td>...</td>\n",
       "      <td>...</td>\n",
       "      <td>...</td>\n",
       "      <td>...</td>\n",
       "      <td>...</td>\n",
       "      <td>...</td>\n",
       "      <td>...</td>\n",
       "      <td>...</td>\n",
       "      <td>...</td>\n",
       "      <td>...</td>\n",
       "      <td>...</td>\n",
       "      <td>...</td>\n",
       "      <td>...</td>\n",
       "      <td>...</td>\n",
       "      <td>...</td>\n",
       "      <td>...</td>\n",
       "      <td>...</td>\n",
       "      <td>...</td>\n",
       "      <td>...</td>\n",
       "      <td>...</td>\n",
       "      <td>...</td>\n",
       "    </tr>\n",
       "    <tr>\n",
       "      <th>676</th>\n",
       "      <td>0</td>\n",
       "      <td>0</td>\n",
       "      <td>0</td>\n",
       "      <td>0</td>\n",
       "      <td>0</td>\n",
       "      <td>0</td>\n",
       "      <td>0</td>\n",
       "      <td>0</td>\n",
       "      <td>0</td>\n",
       "      <td>0</td>\n",
       "      <td>...</td>\n",
       "      <td>0</td>\n",
       "      <td>0</td>\n",
       "      <td>0</td>\n",
       "      <td>0</td>\n",
       "      <td>0</td>\n",
       "      <td>0</td>\n",
       "      <td>0</td>\n",
       "      <td>0</td>\n",
       "      <td>0</td>\n",
       "      <td>0</td>\n",
       "    </tr>\n",
       "    <tr>\n",
       "      <th>677</th>\n",
       "      <td>0</td>\n",
       "      <td>0</td>\n",
       "      <td>0</td>\n",
       "      <td>0</td>\n",
       "      <td>0</td>\n",
       "      <td>0</td>\n",
       "      <td>0</td>\n",
       "      <td>0</td>\n",
       "      <td>0</td>\n",
       "      <td>0</td>\n",
       "      <td>...</td>\n",
       "      <td>0</td>\n",
       "      <td>0</td>\n",
       "      <td>0</td>\n",
       "      <td>0</td>\n",
       "      <td>0</td>\n",
       "      <td>0</td>\n",
       "      <td>0</td>\n",
       "      <td>0</td>\n",
       "      <td>0</td>\n",
       "      <td>0</td>\n",
       "    </tr>\n",
       "    <tr>\n",
       "      <th>678</th>\n",
       "      <td>0</td>\n",
       "      <td>0</td>\n",
       "      <td>0</td>\n",
       "      <td>0</td>\n",
       "      <td>0</td>\n",
       "      <td>0</td>\n",
       "      <td>0</td>\n",
       "      <td>0</td>\n",
       "      <td>0</td>\n",
       "      <td>0</td>\n",
       "      <td>...</td>\n",
       "      <td>0</td>\n",
       "      <td>0</td>\n",
       "      <td>0</td>\n",
       "      <td>0</td>\n",
       "      <td>0</td>\n",
       "      <td>0</td>\n",
       "      <td>0</td>\n",
       "      <td>0</td>\n",
       "      <td>0</td>\n",
       "      <td>0</td>\n",
       "    </tr>\n",
       "    <tr>\n",
       "      <th>679</th>\n",
       "      <td>0</td>\n",
       "      <td>0</td>\n",
       "      <td>0</td>\n",
       "      <td>0</td>\n",
       "      <td>0</td>\n",
       "      <td>0</td>\n",
       "      <td>0</td>\n",
       "      <td>0</td>\n",
       "      <td>0</td>\n",
       "      <td>0</td>\n",
       "      <td>...</td>\n",
       "      <td>0</td>\n",
       "      <td>0</td>\n",
       "      <td>0</td>\n",
       "      <td>0</td>\n",
       "      <td>0</td>\n",
       "      <td>0</td>\n",
       "      <td>0</td>\n",
       "      <td>0</td>\n",
       "      <td>0</td>\n",
       "      <td>0</td>\n",
       "    </tr>\n",
       "    <tr>\n",
       "      <th>680</th>\n",
       "      <td>0</td>\n",
       "      <td>0</td>\n",
       "      <td>0</td>\n",
       "      <td>0</td>\n",
       "      <td>0</td>\n",
       "      <td>0</td>\n",
       "      <td>0</td>\n",
       "      <td>0</td>\n",
       "      <td>0</td>\n",
       "      <td>0</td>\n",
       "      <td>...</td>\n",
       "      <td>0</td>\n",
       "      <td>0</td>\n",
       "      <td>0</td>\n",
       "      <td>0</td>\n",
       "      <td>0</td>\n",
       "      <td>0</td>\n",
       "      <td>0</td>\n",
       "      <td>0</td>\n",
       "      <td>0</td>\n",
       "      <td>0</td>\n",
       "    </tr>\n",
       "  </tbody>\n",
       "</table>\n",
       "<p>681 rows × 92430 columns</p>\n",
       "</div>"
      ],
      "text/plain": [
       "     23eur  3vhauptsache  5u  _rt  aaa  aaaaa  aaaaaaaaaaaaaaaaah  \\\n",
       "0        0             0   0    0    0      0                   0   \n",
       "1        0             0   0    0    0      0                   0   \n",
       "2        0             0   0    0    0      0                   0   \n",
       "3        0             0   0    0    0      0                   0   \n",
       "4        0             0   0    0    0      0                   0   \n",
       "..     ...           ...  ..  ...  ...    ...                 ...   \n",
       "676      0             0   0    0    0      0                   0   \n",
       "677      0             0   0    0    0      0                   0   \n",
       "678      0             0   0    0    0      0                   0   \n",
       "679      0             0   0    0    0      0                   0   \n",
       "680      0             0   0    0    0      0                   0   \n",
       "\n",
       "     aaaaaaaaaaaaah  aaaaaaaaaaaah  aaaaaaaaaaahhhhhhhh  ...  zwolf  \\\n",
       "0                 0              0                    0  ...      0   \n",
       "1                 0              0                    0  ...      0   \n",
       "2                 0              0                    0  ...      0   \n",
       "3                 0              0                    0  ...      0   \n",
       "4                 0              0                    0  ...      0   \n",
       "..              ...            ...                  ...  ...    ...   \n",
       "676               0              0                    0  ...      0   \n",
       "677               0              0                    0  ...      0   \n",
       "678               0              0                    0  ...      0   \n",
       "679               0              0                    0  ...      0   \n",
       "680               0              0                    0  ...      0   \n",
       "\n",
       "     zwolftermann  zwuckel  zyan  zynga  zypern  zz  zzgl  zzt  zzzzz  \n",
       "0               0        0     0      0       0   0     0    0      0  \n",
       "1               0        0     0      0       0   0     0    0      0  \n",
       "2               0        0     0      0       0   0     0    0      0  \n",
       "3               0        0     0      0       0   0     0    0      0  \n",
       "4               0        0     0      0       0   0     0    0      0  \n",
       "..            ...      ...   ...    ...     ...  ..   ...  ...    ...  \n",
       "676             0        0     0      0       0   0     0    0      0  \n",
       "677             0        0     0      0       0   0     0    0      0  \n",
       "678             0        0     0      0       0   0     0    0      0  \n",
       "679             0        0     0      0       0   0     0    0      0  \n",
       "680             0        0     0      0       0   0     0    0      0  \n",
       "\n",
       "[681 rows x 92430 columns]"
      ]
     },
     "execution_count": 497,
     "metadata": {},
     "output_type": "execute_result"
    }
   ],
   "source": [
    "pd.DataFrame(x_train_sub_tweets.todense(), columns=countvectorizer_tweets.get_feature_names())"
   ]
  },
  {
   "cell_type": "code",
   "execution_count": 618,
   "metadata": {},
   "outputs": [],
   "source": [
    "# train bayes clf on tweets\n",
    "\n",
    "bayes_tweets = bayes(alpha=0.90)\n",
    "bayes_tweets.fit(x_train_sub_tweets, y_train_sub)\n",
    "tweet_score = bayes_tweets.score(x_test_tweets, y_test)"
   ]
  },
  {
   "cell_type": "code",
   "execution_count": 619,
   "metadata": {},
   "outputs": [
    {
     "data": {
      "text/plain": [
       "['clf1.joblib']"
      ]
     },
     "execution_count": 619,
     "metadata": {},
     "output_type": "execute_result"
    }
   ],
   "source": [
    "# dump clf as required\n",
    "dump(bayes_tweets, 'clf1.joblib') "
   ]
  },
  {
   "cell_type": "code",
   "execution_count": 620,
   "metadata": {},
   "outputs": [
    {
     "name": "stdout",
     "output_type": "stream",
     "text": [
      "Tweet Score is 62.09%\n"
     ]
    }
   ],
   "source": [
    "tweet_score_text = f\"Tweet Score is {tweet_score:0.2%}\"\n",
    "print(tweet_score_text)"
   ]
  },
  {
   "cell_type": "code",
   "execution_count": 621,
   "metadata": {},
   "outputs": [],
   "source": [
    "# stack input for later use in meta clf\n",
    "stacked_input_1 = pd.Series(bayes_tweets.predict(x_train_meta_tweets))\n",
    "stacked_input_1_test = pd.Series(bayes_tweets.predict(x_test_tweets))"
   ]
  },
  {
   "cell_type": "markdown",
   "metadata": {},
   "source": [
    "## Name classifier"
   ]
  },
  {
   "cell_type": "code",
   "execution_count": 622,
   "metadata": {},
   "outputs": [],
   "source": [
    "# apply count vectorizer to names \n",
    "\n",
    "cvectorizer_names = countvec()\n",
    "x_train_sub_names = cvectorizer_names.fit_transform(train_sub_names)\n",
    "\n",
    "x_train_meta_names = cvectorizer_names.transform(train_meta_names)\n",
    "x_test_names = cvectorizer_names.transform(test_names)"
   ]
  },
  {
   "cell_type": "code",
   "execution_count": 743,
   "metadata": {},
   "outputs": [
    {
     "data": {
      "text/plain": [
       "MultinomialNB(alpha=2)"
      ]
     },
     "execution_count": 743,
     "metadata": {},
     "output_type": "execute_result"
    }
   ],
   "source": [
    "# train bayes clf\n",
    "bayes_names = bayes(alpha=2)\n",
    "bayes_names.fit(x_train_sub_names, y_train_sub)"
   ]
  },
  {
   "cell_type": "code",
   "execution_count": 744,
   "metadata": {},
   "outputs": [
    {
     "name": "stdout",
     "output_type": "stream",
     "text": [
      "Name Score is 56.04%\n"
     ]
    }
   ],
   "source": [
    "name_score = bayes_names.score(x_test_names, y_test)\n",
    "name_score_text = f\"Name Score is {name_score:0.2%}\"\n",
    "print(name_score_text)"
   ]
  },
  {
   "cell_type": "code",
   "execution_count": 745,
   "metadata": {},
   "outputs": [
    {
     "data": {
      "text/plain": [
       "['clf2.joblib']"
      ]
     },
     "execution_count": 745,
     "metadata": {},
     "output_type": "execute_result"
    }
   ],
   "source": [
    "# dump bayes clf as required\n",
    "dump(bayes_names, 'clf2.joblib') "
   ]
  },
  {
   "cell_type": "code",
   "execution_count": 746,
   "metadata": {},
   "outputs": [],
   "source": [
    "# stack input for later use in meta clf\n",
    "stacked_input_2 = pd.Series(bayes_names.predict(x_train_meta_names))\n",
    "stacked_input_2_test = pd.Series(bayes_names.predict(x_test_names))"
   ]
  },
  {
   "cell_type": "markdown",
   "metadata": {},
   "source": [
    "## Meta Classifier"
   ]
  },
  {
   "cell_type": "code",
   "execution_count": 747,
   "metadata": {},
   "outputs": [],
   "source": [
    "# initialize RF classifier\n",
    "forest = RandomForestClassifier()"
   ]
  },
  {
   "cell_type": "code",
   "execution_count": 748,
   "metadata": {},
   "outputs": [
    {
     "data": {
      "text/html": [
       "<div>\n",
       "<style scoped>\n",
       "    .dataframe tbody tr th:only-of-type {\n",
       "        vertical-align: middle;\n",
       "    }\n",
       "\n",
       "    .dataframe tbody tr th {\n",
       "        vertical-align: top;\n",
       "    }\n",
       "\n",
       "    .dataframe thead th {\n",
       "        text-align: right;\n",
       "    }\n",
       "</style>\n",
       "<table border=\"1\" class=\"dataframe\">\n",
       "  <thead>\n",
       "    <tr style=\"text-align: right;\">\n",
       "      <th></th>\n",
       "      <th>input_1</th>\n",
       "      <th>input_2</th>\n",
       "    </tr>\n",
       "  </thead>\n",
       "  <tbody>\n",
       "    <tr>\n",
       "      <th>0</th>\n",
       "      <td>1.0</td>\n",
       "      <td>1.0</td>\n",
       "    </tr>\n",
       "    <tr>\n",
       "      <th>1</th>\n",
       "      <td>1.0</td>\n",
       "      <td>1.0</td>\n",
       "    </tr>\n",
       "    <tr>\n",
       "      <th>2</th>\n",
       "      <td>1.0</td>\n",
       "      <td>1.0</td>\n",
       "    </tr>\n",
       "    <tr>\n",
       "      <th>3</th>\n",
       "      <td>1.0</td>\n",
       "      <td>1.0</td>\n",
       "    </tr>\n",
       "    <tr>\n",
       "      <th>4</th>\n",
       "      <td>1.0</td>\n",
       "      <td>1.0</td>\n",
       "    </tr>\n",
       "    <tr>\n",
       "      <th>5</th>\n",
       "      <td>1.0</td>\n",
       "      <td>1.0</td>\n",
       "    </tr>\n",
       "    <tr>\n",
       "      <th>6</th>\n",
       "      <td>2.0</td>\n",
       "      <td>1.0</td>\n",
       "    </tr>\n",
       "    <tr>\n",
       "      <th>7</th>\n",
       "      <td>1.0</td>\n",
       "      <td>1.0</td>\n",
       "    </tr>\n",
       "    <tr>\n",
       "      <th>8</th>\n",
       "      <td>1.0</td>\n",
       "      <td>1.0</td>\n",
       "    </tr>\n",
       "    <tr>\n",
       "      <th>9</th>\n",
       "      <td>1.0</td>\n",
       "      <td>1.0</td>\n",
       "    </tr>\n",
       "  </tbody>\n",
       "</table>\n",
       "</div>"
      ],
      "text/plain": [
       "   input_1  input_2\n",
       "0      1.0      1.0\n",
       "1      1.0      1.0\n",
       "2      1.0      1.0\n",
       "3      1.0      1.0\n",
       "4      1.0      1.0\n",
       "5      1.0      1.0\n",
       "6      2.0      1.0\n",
       "7      1.0      1.0\n",
       "8      1.0      1.0\n",
       "9      1.0      1.0"
      ]
     },
     "execution_count": 748,
     "metadata": {},
     "output_type": "execute_result"
    }
   ],
   "source": [
    "# compose meta results for training\n",
    "meta_data_train = {'input_1': stacked_input_1, 'input_2': stacked_input_2}\n",
    "meta_data_train = pd.DataFrame(meta_data_train)\n",
    "\n",
    "meta_data_train.head(10)"
   ]
  },
  {
   "cell_type": "code",
   "execution_count": 749,
   "metadata": {},
   "outputs": [
    {
     "data": {
      "text/plain": [
       "RandomForestClassifier()"
      ]
     },
     "execution_count": 749,
     "metadata": {},
     "output_type": "execute_result"
    }
   ],
   "source": [
    "# compose meta results for testing\n",
    "meta_data_test = {'input_1': stacked_input_1_test, 'input_2': stacked_input_2_test}\n",
    "meta_data_test = pd.DataFrame(meta_data_test)\n",
    "forest.fit(meta_data_train, y_train_meta)"
   ]
  },
  {
   "cell_type": "code",
   "execution_count": 750,
   "metadata": {},
   "outputs": [],
   "source": [
    "meta_score = forest.score(meta_data_test, y_test)\n",
    "meta_score_text = f\"Meta Score is {meta_score:0.2%}\""
   ]
  },
  {
   "cell_type": "code",
   "execution_count": 751,
   "metadata": {},
   "outputs": [
    {
     "data": {
      "text/plain": [
       "['clf3.joblib']"
      ]
     },
     "execution_count": 751,
     "metadata": {},
     "output_type": "execute_result"
    }
   ],
   "source": [
    "# dump clf as required\n",
    "dump(forest, 'clf3.joblib') "
   ]
  },
  {
   "cell_type": "code",
   "execution_count": 752,
   "metadata": {},
   "outputs": [
    {
     "name": "stdout",
     "output_type": "stream",
     "text": [
      "Tweet Score is 62.09%\n",
      "Name Score is 56.04%\n",
      "Meta Score is 62.09%\n"
     ]
    }
   ],
   "source": [
    "# final comparsion\n",
    "print(tweet_score_text)\n",
    "print(name_score_text)\n",
    "print(meta_score_text)"
   ]
  }
 ],
 "metadata": {
  "kernelspec": {
   "display_name": "Python 3",
   "language": "python",
   "name": "python3"
  },
  "language_info": {
   "codemirror_mode": {
    "name": "ipython",
    "version": 3
   },
   "file_extension": ".py",
   "mimetype": "text/x-python",
   "name": "python",
   "nbconvert_exporter": "python",
   "pygments_lexer": "ipython3",
   "version": "3.8.12"
  }
 },
 "nbformat": 4,
 "nbformat_minor": 4
}
