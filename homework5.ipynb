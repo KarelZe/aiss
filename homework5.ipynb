{
 "cells": [
  {
   "cell_type": "markdown",
   "metadata": {},
   "source": [
    "# Homework 5 – Analysis of distributed data sources"
   ]
  },
  {
   "cell_type": "markdown",
   "metadata": {},
   "source": [
    "In the dataset we already used in the exercise, there is another target attribute: `age`. Apply your learnings on this new target and assess the performance of each classifier.\n",
    "\n",
    "1. Build and test a text classifier targeting the age of a user according their age classes (0-10, 11-20, 21-30, 31+).\n",
    "\n",
    "2. Build a ML name classifier that classifies the age of a user according their age classes (0-10, 11-20, 21-30, 31+).\n",
    "\n",
    "3. Build a meta classifier that combines the previously built classifiers based on their age classes (0-10, 11-20, 21-30, 31+).\n",
    "\n",
    "As introduced in a previous homework, please save each classifier with the following command: `dump(tree_clf, 'clf1.joblib')`.<br/> Name them `clf1.joblib`, `clf2.joblib` and `clf3.joblib`. \n"
   ]
  },
  {
   "cell_type": "markdown",
   "metadata": {},
   "source": [
    "**Please make sure:**\n",
    "\n",
    "- Each cell (essential step) is commented on with a short sentence\n",
    "- New variables / fields are output in sufficient length (e.g., `df.head(10)`)\n",
    "- Each of the tasks is answered with a short written statement\n",
    "- Tidy up your code\n",
    "\n",
    "There are no defined functions, we expect you to structure your code on your own (functions are not mandatory). Don't forget to upload the joblibs next to your notebook! "
   ]
  },
  {
   "cell_type": "markdown",
   "metadata": {},
   "source": [
    "<hr/>\n",
    "\n",
    "## Coding Area"
   ]
  },
  {
   "cell_type": "code",
   "execution_count": null,
   "metadata": {},
   "outputs": [],
   "source": [
    "import pandas as pd\n",
    "import matplotlib.pyplot as plt\n",
    "%matplotlib inline  \n",
    "from sklearn.model_selection import train_test_split\n",
    "from sklearn.naive_bayes import MultinomialNB as bayes\n",
    "from sklearn.feature_extraction.text import CountVectorizer as countvec\n",
    "from sklearn.ensemble import RandomForestClassifier \n",
    "from joblib import dump"
   ]
  },
  {
   "cell_type": "code",
   "execution_count": null,
   "metadata": {},
   "outputs": [],
   "source": [
    "data = pd.read_pickle('data/twitterData.pkl')\n",
    "data.shape"
   ]
  },
  {
   "cell_type": "code",
   "execution_count": null,
   "metadata": {},
   "outputs": [],
   "source": [
    "# get age class by floor div e. g. 31 // 10 = 3\n",
    "data['age_class'] = data['age'].floordiv(10)\n",
    "data.head(10)"
   ]
  },
  {
   "cell_type": "code",
   "execution_count": null,
   "metadata": {},
   "outputs": [],
   "source": [
    "\n",
    "data['age_class'].hist()"
   ]
  },
  {
   "cell_type": "code",
   "execution_count": null,
   "metadata": {},
   "outputs": [],
   "source": [
    "train_sub, temp = train_test_split(data, test_size=0.4, random_state=42)\n",
    "train_meta, test = train_test_split(temp, test_size=0.4, random_state=42)\n",
    "print(train_sub.shape, train_meta.shape, test.shape)"
   ]
  },
  {
   "cell_type": "code",
   "execution_count": null,
   "metadata": {},
   "outputs": [],
   "source": [
    "train_sub_tweets = train_sub['tweets_concatenated']\n",
    "train_meta_tweets = train_meta['tweets_concatenated']\n",
    "test_tweets = test['tweets_concatenated']\n",
    "\n",
    "train_sub_names = train_sub['name']\n",
    "train_meta_names = train_meta['name']\n",
    "test_names = test['name']"
   ]
  },
  {
   "cell_type": "code",
   "execution_count": null,
   "metadata": {},
   "outputs": [],
   "source": [
    "y_train_sub = train_sub['age_class']\n",
    "y_train_meta = train_meta['age_class']\n",
    "y_test = test['age_class']"
   ]
  },
  {
   "cell_type": "code",
   "execution_count": null,
   "metadata": {},
   "outputs": [],
   "source": [
    "train_sub_tweets.head(10)"
   ]
  },
  {
   "cell_type": "code",
   "execution_count": null,
   "metadata": {},
   "outputs": [],
   "source": [
    "y_train_sub.head(4)"
   ]
  },
  {
   "cell_type": "code",
   "execution_count": null,
   "metadata": {},
   "outputs": [],
   "source": [
    "countvectorizer_tweets = countvec()\n",
    "x_train_sub_tweets = countvectorizer_tweets.fit_transform(train_sub_tweets)\n",
    "x_train_meta_tweets = countvectorizer_tweets.transform(train_meta_tweets)\n",
    "x_test_tweets = countvectorizer_tweets.transform(test_tweets)"
   ]
  },
  {
   "cell_type": "code",
   "execution_count": null,
   "metadata": {},
   "outputs": [],
   "source": [
    "pd.DataFrame(x_train_sub_tweets.todense(), columns=countvectorizer_tweets.get_feature_names())"
   ]
  },
  {
   "cell_type": "code",
   "execution_count": null,
   "metadata": {},
   "outputs": [],
   "source": [
    "# train bayes clf on tweets\n",
    "\n",
    "bayes_tweets = bayes()\n",
    "bayes_tweets.fit(x_train_sub_tweets, y_train_sub)\n",
    "tweet_score = bayes_tweets.score(x_test_tweets, y_test)"
   ]
  },
  {
   "cell_type": "code",
   "execution_count": null,
   "metadata": {},
   "outputs": [],
   "source": [
    "# dump clf as required\n",
    "dump(bayes_tweets, 'clf1.joblib') "
   ]
  },
  {
   "cell_type": "code",
   "execution_count": null,
   "metadata": {},
   "outputs": [],
   "source": [
    "tweet_score_text = f\"Tweet Score is {tweet_score:0.2%}\"\n",
    "print(tweet_score_text)"
   ]
  },
  {
   "cell_type": "code",
   "execution_count": null,
   "metadata": {},
   "outputs": [],
   "source": [
    "# stack input for later use in meta clf\n",
    "stacked_input_1 = pd.Series(bayes_tweets.predict(x_train_meta_tweets))\n",
    "stacked_input_1_test = pd.Series(bayes_tweets.predict(x_test_tweets))"
   ]
  },
  {
   "cell_type": "markdown",
   "metadata": {},
   "source": [
    "## Name classifier"
   ]
  },
  {
   "cell_type": "code",
   "execution_count": null,
   "metadata": {},
   "outputs": [],
   "source": [
    "# apply count vectorizer to names \n",
    "\n",
    "cvectorizer_names = countvec()\n",
    "x_train_sub_names = cvectorizer_names.fit_transform(train_sub_names)\n",
    "\n",
    "x_train_meta_names = cvectorizer_names.transform(train_meta_names)\n",
    "x_test_names = cvectorizer_names.transform(test_names)"
   ]
  },
  {
   "cell_type": "code",
   "execution_count": null,
   "metadata": {},
   "outputs": [],
   "source": [
    "# train bayes clf\n",
    "bayes_names = bayes()\n",
    "bayes_names.fit(x_train_sub_names, y_train_sub)"
   ]
  },
  {
   "cell_type": "code",
   "execution_count": null,
   "metadata": {},
   "outputs": [],
   "source": [
    "name_score = bayes_names.score(x_test_names, y_test)\n",
    "name_score_text = f\"Name Score is {name_score:0.2%}\"\n",
    "print(name_score_text)"
   ]
  },
  {
   "cell_type": "code",
   "execution_count": null,
   "metadata": {},
   "outputs": [],
   "source": [
    "# dump bayes clf as required\n",
    "dump(bayes_names, 'clf2.joblib') "
   ]
  },
  {
   "cell_type": "code",
   "execution_count": null,
   "metadata": {},
   "outputs": [],
   "source": [
    "# stack input for later use in meta clf\n",
    "stacked_input_2 = pd.Series(bayes_names.predict(x_train_meta_names))\n",
    "stacked_input_2_test = pd.Series(bayes_names.predict(x_test_names))"
   ]
  },
  {
   "cell_type": "markdown",
   "metadata": {},
   "source": [
    "## Meta Classifier"
   ]
  },
  {
   "cell_type": "code",
   "execution_count": null,
   "metadata": {},
   "outputs": [],
   "source": [
    "# initialize RF classifier\n",
    "forest = RandomForestClassifier()"
   ]
  },
  {
   "cell_type": "code",
   "execution_count": null,
   "metadata": {},
   "outputs": [],
   "source": [
    "# compose meta results for training\n",
    "meta_data_train = {'input_1': stacked_input_1, 'input_2': stacked_input_2}\n",
    "meta_data_train = pd.DataFrame(meta_data_train)\n",
    "\n",
    "meta_data_train.head(10)"
   ]
  },
  {
   "cell_type": "code",
   "execution_count": null,
   "metadata": {},
   "outputs": [],
   "source": [
    "# compose meta results for testing\n",
    "meta_data_test = {'input_1': stacked_input_1_test, 'input_2': stacked_input_2_test}\n",
    "meta_data_test = pd.DataFrame(meta_data_test)\n",
    "forest.fit(meta_data_train, y_train_meta)"
   ]
  },
  {
   "cell_type": "code",
   "execution_count": null,
   "metadata": {},
   "outputs": [],
   "source": [
    "meta_score = forest.score(meta_data_test, y_test)\n",
    "meta_score_text = f\"Meta Score is {meta_score:0.2%}\""
   ]
  },
  {
   "cell_type": "code",
   "execution_count": null,
   "metadata": {},
   "outputs": [],
   "source": [
    "# dump clf as required\n",
    "dump(forest, 'clf3.joblib') "
   ]
  },
  {
   "cell_type": "code",
   "execution_count": null,
   "metadata": {},
   "outputs": [],
   "source": [
    "# final comparsion\n",
    "print(tweet_score_text)\n",
    "print(name_score_text)\n",
    "print(meta_score_text)"
   ]
  },
  {
   "cell_type": "markdown",
   "metadata": {},
   "source": []
  }
 ],
 "metadata": {
  "kernelspec": {
   "display_name": "Python 3",
   "language": "python",
   "name": "python3"
  },
  "language_info": {
   "codemirror_mode": {
    "name": "ipython",
    "version": 3
   },
   "file_extension": ".py",
   "mimetype": "text/x-python",
   "name": "python",
   "nbconvert_exporter": "python",
   "pygments_lexer": "ipython3",
   "version": "3.8.12"
  }
 },
 "nbformat": 4,
 "nbformat_minor": 4
}
