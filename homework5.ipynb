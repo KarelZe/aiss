{
 "cells": [
  {
   "cell_type": "markdown",
   "metadata": {},
   "source": [
    "# Homework 5 – Analysis of distributed data sources"
   ]
  },
  {
   "cell_type": "markdown",
   "metadata": {},
   "source": [
    "In the dataset we already used in the exercise, there is another target attribute: `age`. Apply your learnings on this new target and assess the performance of each classifier.\n",
    "\n",
    "1. Build and test a text classifier targeting the age of a user according their age classes (0-10, 11-20, 21-30, 31+).\n",
    "\n",
    "2. Build a ML name classifier that classifies the age of a user according their age classes (0-10, 11-20, 21-30, 31+).\n",
    "\n",
    "3. Build a meta classifier that combines the previously built classifiers based on their age classes (0-10, 11-20, 21-30, 31+).\n",
    "\n",
    "As introduced in a previous homework, please save each classifier with the following command: `dump(tree_clf, 'clf1.joblib')`.<br/> Name them `clf1.joblib`, `clf2.joblib` and `clf3.joblib`. \n"
   ]
  },
  {
   "cell_type": "markdown",
   "metadata": {},
   "source": [
    "**Please make sure:**\n",
    "\n",
    "- Each cell (essential step) is commented on with a short sentence\n",
    "- New variables / fields are output in sufficient length (e.g., `df.head(10)`)\n",
    "- Each of the tasks is answered with a short written statement\n",
    "- Tidy up your code\n",
    "\n",
    "There are no defined functions, we expect you to structure your code on your own (functions are not mandatory). Don't forget to upload the joblibs next to your notebook! "
   ]
  },
  {
   "cell_type": "markdown",
   "metadata": {},
   "source": [
    "<hr/>\n",
    "\n",
    "## Coding Area"
   ]
  },
  {
   "cell_type": "code",
   "execution_count": 382,
   "metadata": {},
   "outputs": [],
   "source": [
    "import numpy as np\n",
    "import pandas as pd\n",
    "import matplotlib.pyplot as plt\n",
    "%matplotlib inline  \n",
    "from sklearn.model_selection import train_test_split\n",
    "from sklearn.naive_bayes import MultinomialNB as bayes\n",
    "from sklearn.feature_extraction.text import CountVectorizer\n",
    "from sklearn.ensemble import RandomForestClassifier \n",
    "from joblib import dump\n",
    "import unidecode\n",
    "import re\n",
    "import nltk\n",
    "from nltk.corpus import stopwords\n",
    "from nltk.stem.snowball import GermanStemmer"
   ]
  },
  {
   "cell_type": "code",
   "execution_count": 383,
   "metadata": {},
   "outputs": [
    {
     "data": {
      "text/plain": [
       "(2916, 6)"
      ]
     },
     "execution_count": 383,
     "metadata": {},
     "output_type": "execute_result"
    }
   ],
   "source": [
    "data = pd.read_pickle('data/twitterData.pkl')\n",
    "data.shape"
   ]
  },
  {
   "cell_type": "code",
   "execution_count": 384,
   "metadata": {},
   "outputs": [
    {
     "data": {
      "text/html": [
       "<div>\n",
       "<style scoped>\n",
       "    .dataframe tbody tr th:only-of-type {\n",
       "        vertical-align: middle;\n",
       "    }\n",
       "\n",
       "    .dataframe tbody tr th {\n",
       "        vertical-align: top;\n",
       "    }\n",
       "\n",
       "    .dataframe thead th {\n",
       "        text-align: right;\n",
       "    }\n",
       "</style>\n",
       "<table border=\"1\" class=\"dataframe\">\n",
       "  <thead>\n",
       "    <tr style=\"text-align: right;\">\n",
       "      <th></th>\n",
       "      <th>screen_name</th>\n",
       "      <th>name</th>\n",
       "      <th>tweets_concatenated</th>\n",
       "      <th>avatar_url</th>\n",
       "      <th>gender</th>\n",
       "      <th>age</th>\n",
       "      <th>age_class</th>\n",
       "    </tr>\n",
       "  </thead>\n",
       "  <tbody>\n",
       "    <tr>\n",
       "      <th>0</th>\n",
       "      <td>DatZerooo</td>\n",
       "      <td>David</td>\n",
       "      <td>Warum riecht mein Bruder nach Pizza wenn er ei...</td>\n",
       "      <td>http://pbs.twimg.com/profile_images/7569661512...</td>\n",
       "      <td>M</td>\n",
       "      <td>16.0</td>\n",
       "      <td>1.0</td>\n",
       "    </tr>\n",
       "    <tr>\n",
       "      <th>0</th>\n",
       "      <td>reap705</td>\n",
       "      <td>Oliver Gast</td>\n",
       "      <td>[CSS] Ein Off-canvas-Menü mit Dropdown-Navigat...</td>\n",
       "      <td>http://pbs.twimg.com/profile_images/1366984169...</td>\n",
       "      <td>M</td>\n",
       "      <td>15.0</td>\n",
       "      <td>1.0</td>\n",
       "    </tr>\n",
       "    <tr>\n",
       "      <th>0</th>\n",
       "      <td>Dossary1995</td>\n",
       "      <td>Khalid Aldossary</td>\n",
       "      <td></td>\n",
       "      <td>http://pbs.twimg.com/profile_images/4167523242...</td>\n",
       "      <td>M</td>\n",
       "      <td>37.0</td>\n",
       "      <td>3.0</td>\n",
       "    </tr>\n",
       "    <tr>\n",
       "      <th>0</th>\n",
       "      <td>3</td>\n",
       "      <td>3</td>\n",
       "      <td>3</td>\n",
       "      <td>3</td>\n",
       "      <td>3</td>\n",
       "      <td>3.0</td>\n",
       "      <td>3.0</td>\n",
       "    </tr>\n",
       "    <tr>\n",
       "      <th>0</th>\n",
       "      <td>Narutofreak935</td>\n",
       "      <td>Avengar</td>\n",
       "      <td>@GrandlineTV gib nicht auf und mach dein Ding ...</td>\n",
       "      <td>http://pbs.twimg.com/profile_images/7317971734...</td>\n",
       "      <td>F</td>\n",
       "      <td>19.0</td>\n",
       "      <td>1.0</td>\n",
       "    </tr>\n",
       "    <tr>\n",
       "      <th>0</th>\n",
       "      <td>miley_sarah</td>\n",
       "      <td>Sarah</td>\n",
       "      <td>RT @bomelino: Das \"Backe, backe Kuchen\"-Lied i...</td>\n",
       "      <td>http://pbs.twimg.com/profile_images/7584397626...</td>\n",
       "      <td>M</td>\n",
       "      <td>18.0</td>\n",
       "      <td>1.0</td>\n",
       "    </tr>\n",
       "    <tr>\n",
       "      <th>0</th>\n",
       "      <td>DerIncubus</td>\n",
       "      <td>Der Incubus</td>\n",
       "      <td>@NicoleAllm Na ... gut ins neue Jahr gestartet...</td>\n",
       "      <td>http://pbs.twimg.com/profile_images/5808649200...</td>\n",
       "      <td>F</td>\n",
       "      <td>22.0</td>\n",
       "      <td>2.0</td>\n",
       "    </tr>\n",
       "    <tr>\n",
       "      <th>0</th>\n",
       "      <td>Petouser</td>\n",
       "      <td>ペトユサ (Petoyusa)</td>\n",
       "      <td>Verschwörungstheorie: Pokemon Go wird von der ...</td>\n",
       "      <td>http://pbs.twimg.com/profile_images/6626943925...</td>\n",
       "      <td>M</td>\n",
       "      <td>26.0</td>\n",
       "      <td>2.0</td>\n",
       "    </tr>\n",
       "    <tr>\n",
       "      <th>0</th>\n",
       "      <td>ChrisWhite126</td>\n",
       "      <td>Chris White</td>\n",
       "      <td>Ach du scheiße ist das warm. :( Hab locker 5kg...</td>\n",
       "      <td>http://pbs.twimg.com/profile_images/6463341220...</td>\n",
       "      <td>M</td>\n",
       "      <td>37.0</td>\n",
       "      <td>3.0</td>\n",
       "    </tr>\n",
       "    <tr>\n",
       "      <th>0</th>\n",
       "      <td>MusicFreakFever</td>\n",
       "      <td>Nadine (:</td>\n",
       "      <td>Heute nur DREI (!) Schulstunden !\\n Ich LIIIIE...</td>\n",
       "      <td>http://pbs.twimg.com/profile_images/3788000003...</td>\n",
       "      <td>M</td>\n",
       "      <td>15.0</td>\n",
       "      <td>1.0</td>\n",
       "    </tr>\n",
       "    <tr>\n",
       "      <th>0</th>\n",
       "      <td>LukasAlthoff</td>\n",
       "      <td>Luk Alt</td>\n",
       "      <td>RT @cem_oezdemir: #Pazar will mir eine Ehrenbü...</td>\n",
       "      <td>http://pbs.twimg.com/profile_images/5035102215...</td>\n",
       "      <td>F</td>\n",
       "      <td>30.0</td>\n",
       "      <td>3.0</td>\n",
       "    </tr>\n",
       "    <tr>\n",
       "      <th>0</th>\n",
       "      <td>TheRPunkt</td>\n",
       "      <td>TheRPunkt</td>\n",
       "      <td>Viel Spaß mit der 41. Folge von #LetsPlay http...</td>\n",
       "      <td>http://pbs.twimg.com/profile_images/7467002138...</td>\n",
       "      <td>M</td>\n",
       "      <td>17.0</td>\n",
       "      <td>1.0</td>\n",
       "    </tr>\n",
       "    <tr>\n",
       "      <th>0</th>\n",
       "      <td>derandroidpro</td>\n",
       "      <td>Der Android Pro</td>\n",
       "      <td>Programmieren für meinen neuen Arduino Nano Mi...</td>\n",
       "      <td>http://pbs.twimg.com/profile_images/6021517213...</td>\n",
       "      <td>M</td>\n",
       "      <td>17.0</td>\n",
       "      <td>1.0</td>\n",
       "    </tr>\n",
       "    <tr>\n",
       "      <th>0</th>\n",
       "      <td>KernNorman</td>\n",
       "      <td>Norman Kern</td>\n",
       "      <td></td>\n",
       "      <td>http://pbs.twimg.com/profile_images/576106140/...</td>\n",
       "      <td>M</td>\n",
       "      <td>18.0</td>\n",
       "      <td>1.0</td>\n",
       "    </tr>\n",
       "    <tr>\n",
       "      <th>0</th>\n",
       "      <td>ecschenke</td>\n",
       "      <td>E.C. Schenke</td>\n",
       "      <td>Registered SkyBuddy game players get a chance ...</td>\n",
       "      <td>http://pbs.twimg.com/profile_images/1626127505...</td>\n",
       "      <td>M</td>\n",
       "      <td>22.0</td>\n",
       "      <td>2.0</td>\n",
       "    </tr>\n",
       "    <tr>\n",
       "      <th>0</th>\n",
       "      <td>Firenism</td>\n",
       "      <td>Jannik</td>\n",
       "      <td>Geiles Wetter, aber der blaue Himmel fehlt||Na...</td>\n",
       "      <td>http://pbs.twimg.com/profile_images/737691817/...</td>\n",
       "      <td>F</td>\n",
       "      <td>15.0</td>\n",
       "      <td>1.0</td>\n",
       "    </tr>\n",
       "    <tr>\n",
       "      <th>0</th>\n",
       "      <td>ALYSHAFlossdor2</td>\n",
       "      <td>ALYSHA Flossdorf</td>\n",
       "      <td>@Raja9655S joa und bei dir||@Raja9655S hi||Lol...</td>\n",
       "      <td>http://pbs.twimg.com/profile_images/5604375339...</td>\n",
       "      <td>M</td>\n",
       "      <td>18.0</td>\n",
       "      <td>1.0</td>\n",
       "    </tr>\n",
       "    <tr>\n",
       "      <th>0</th>\n",
       "      <td>MichaelClaus1</td>\n",
       "      <td>Michael Claus</td>\n",
       "      <td></td>\n",
       "      <td>http://pbs.twimg.com/profile_images/5353147890...</td>\n",
       "      <td>F</td>\n",
       "      <td>22.0</td>\n",
       "      <td>2.0</td>\n",
       "    </tr>\n",
       "    <tr>\n",
       "      <th>0</th>\n",
       "      <td>Nidocon</td>\n",
       "      <td>Nico</td>\n",
       "      <td>@ShatroFTW Ah okay, hört sich nicht schlecht a...</td>\n",
       "      <td>http://pbs.twimg.com/profile_images/7206769551...</td>\n",
       "      <td>M</td>\n",
       "      <td>20.0</td>\n",
       "      <td>2.0</td>\n",
       "    </tr>\n",
       "    <tr>\n",
       "      <th>0</th>\n",
       "      <td>3</td>\n",
       "      <td>3</td>\n",
       "      <td>3</td>\n",
       "      <td>3</td>\n",
       "      <td>3</td>\n",
       "      <td>3.0</td>\n",
       "      <td>3.0</td>\n",
       "    </tr>\n",
       "  </tbody>\n",
       "</table>\n",
       "</div>"
      ],
      "text/plain": [
       "       screen_name              name  \\\n",
       "0        DatZerooo             David   \n",
       "0          reap705       Oliver Gast   \n",
       "0      Dossary1995  Khalid Aldossary   \n",
       "0                3                 3   \n",
       "0   Narutofreak935           Avengar   \n",
       "0      miley_sarah             Sarah   \n",
       "0       DerIncubus       Der Incubus   \n",
       "0         Petouser   ペトユサ (Petoyusa)   \n",
       "0    ChrisWhite126       Chris White   \n",
       "0  MusicFreakFever         Nadine (:   \n",
       "0     LukasAlthoff           Luk Alt   \n",
       "0        TheRPunkt         TheRPunkt   \n",
       "0    derandroidpro   Der Android Pro   \n",
       "0       KernNorman       Norman Kern   \n",
       "0        ecschenke      E.C. Schenke   \n",
       "0         Firenism            Jannik   \n",
       "0  ALYSHAFlossdor2  ALYSHA Flossdorf   \n",
       "0    MichaelClaus1     Michael Claus   \n",
       "0          Nidocon              Nico   \n",
       "0                3                 3   \n",
       "\n",
       "                                 tweets_concatenated  \\\n",
       "0  Warum riecht mein Bruder nach Pizza wenn er ei...   \n",
       "0  [CSS] Ein Off-canvas-Menü mit Dropdown-Navigat...   \n",
       "0                                                      \n",
       "0                                                  3   \n",
       "0  @GrandlineTV gib nicht auf und mach dein Ding ...   \n",
       "0  RT @bomelino: Das \"Backe, backe Kuchen\"-Lied i...   \n",
       "0  @NicoleAllm Na ... gut ins neue Jahr gestartet...   \n",
       "0  Verschwörungstheorie: Pokemon Go wird von der ...   \n",
       "0  Ach du scheiße ist das warm. :( Hab locker 5kg...   \n",
       "0  Heute nur DREI (!) Schulstunden !\\n Ich LIIIIE...   \n",
       "0  RT @cem_oezdemir: #Pazar will mir eine Ehrenbü...   \n",
       "0  Viel Spaß mit der 41. Folge von #LetsPlay http...   \n",
       "0  Programmieren für meinen neuen Arduino Nano Mi...   \n",
       "0                                                      \n",
       "0  Registered SkyBuddy game players get a chance ...   \n",
       "0  Geiles Wetter, aber der blaue Himmel fehlt||Na...   \n",
       "0  @Raja9655S joa und bei dir||@Raja9655S hi||Lol...   \n",
       "0                                                      \n",
       "0  @ShatroFTW Ah okay, hört sich nicht schlecht a...   \n",
       "0                                                  3   \n",
       "\n",
       "                                          avatar_url gender   age  age_class  \n",
       "0  http://pbs.twimg.com/profile_images/7569661512...      M  16.0        1.0  \n",
       "0  http://pbs.twimg.com/profile_images/1366984169...      M  15.0        1.0  \n",
       "0  http://pbs.twimg.com/profile_images/4167523242...      M  37.0        3.0  \n",
       "0                                                  3      3   3.0        3.0  \n",
       "0  http://pbs.twimg.com/profile_images/7317971734...      F  19.0        1.0  \n",
       "0  http://pbs.twimg.com/profile_images/7584397626...      M  18.0        1.0  \n",
       "0  http://pbs.twimg.com/profile_images/5808649200...      F  22.0        2.0  \n",
       "0  http://pbs.twimg.com/profile_images/6626943925...      M  26.0        2.0  \n",
       "0  http://pbs.twimg.com/profile_images/6463341220...      M  37.0        3.0  \n",
       "0  http://pbs.twimg.com/profile_images/3788000003...      M  15.0        1.0  \n",
       "0  http://pbs.twimg.com/profile_images/5035102215...      F  30.0        3.0  \n",
       "0  http://pbs.twimg.com/profile_images/7467002138...      M  17.0        1.0  \n",
       "0  http://pbs.twimg.com/profile_images/6021517213...      M  17.0        1.0  \n",
       "0  http://pbs.twimg.com/profile_images/576106140/...      M  18.0        1.0  \n",
       "0  http://pbs.twimg.com/profile_images/1626127505...      M  22.0        2.0  \n",
       "0  http://pbs.twimg.com/profile_images/737691817/...      F  15.0        1.0  \n",
       "0  http://pbs.twimg.com/profile_images/5604375339...      M  18.0        1.0  \n",
       "0  http://pbs.twimg.com/profile_images/5353147890...      F  22.0        2.0  \n",
       "0  http://pbs.twimg.com/profile_images/7206769551...      M  20.0        2.0  \n",
       "0                                                  3      3   3.0        3.0  "
      ]
     },
     "execution_count": 384,
     "metadata": {},
     "output_type": "execute_result"
    }
   ],
   "source": [
    "# get age class by floor div e. g. 31 // 10 = 3\n",
    "data['age_class'] = data['age'].floordiv(10)\n",
    "# corner case for everyone >= 31\n",
    "data[data['age_class']>3] = 3\n",
    "data.head(20)"
   ]
  },
  {
   "cell_type": "code",
   "execution_count": 385,
   "metadata": {},
   "outputs": [
    {
     "data": {
      "text/plain": [
       "1607"
      ]
     },
     "execution_count": 385,
     "metadata": {},
     "output_type": "execute_result"
    }
   ],
   "source": [
    "data['age'].isna().sum()"
   ]
  },
  {
   "cell_type": "code",
   "execution_count": 386,
   "metadata": {},
   "outputs": [
    {
     "data": {
      "text/plain": [
       "(1309, 7)"
      ]
     },
     "execution_count": 386,
     "metadata": {},
     "output_type": "execute_result"
    }
   ],
   "source": [
    "data = data[data['age_class'].notna()]\n",
    "data.shape"
   ]
  },
  {
   "cell_type": "code",
   "execution_count": 387,
   "metadata": {},
   "outputs": [
    {
     "data": {
      "text/plain": [
       "<AxesSubplot:>"
      ]
     },
     "execution_count": 387,
     "metadata": {},
     "output_type": "execute_result"
    },
    {
     "data": {
      "image/png": "[encoded data removed]",
      "text/plain": [
       "<Figure size 432x288 with 1 Axes>"
      ]
     },
     "metadata": {
      "needs_background": "light"
     },
     "output_type": "display_data"
    }
   ],
   "source": [
    "\n",
    "data['age_class'].hist()"
   ]
  },
  {
   "cell_type": "code",
   "execution_count": 388,
   "metadata": {},
   "outputs": [],
   "source": [
    "# adapted from here https://stackoverflow.com/a/58356570/5755604\n",
    "def remove_emojis(dirty_str):\n",
    "    if pd.isnull(dirty_str):\n",
    "        return \"\"\n",
    "\n",
    "    emoj = re.compile(\"[\"\n",
    "        u\"\\U0001F600-\\U0001F64F\"  # emoticons\n",
    "        u\"\\U0001F300-\\U0001F5FF\"  # symbols & pictographs\n",
    "        u\"\\U0001F680-\\U0001F6FF\"  # transport & map symbols\n",
    "        u\"\\U0001F1E0-\\U0001F1FF\"  # flags (iOS)\n",
    "        u\"\\U00002500-\\U00002BEF\"  # chinese char\n",
    "        u\"\\U00002702-\\U000027B0\"\n",
    "        u\"\\U00002702-\\U000027B0\"\n",
    "        u\"\\U000024C2-\\U0001F251\"\n",
    "        u\"\\U0001f926-\\U0001f937\"\n",
    "        u\"\\U00010000-\\U0010ffff\"\n",
    "        u\"\\u2640-\\u2642\" \n",
    "        u\"\\u2600-\\u2B55\"\n",
    "        u\"\\u200d\"\n",
    "        u\"\\u23cf\"\n",
    "        u\"\\u23e9\"\n",
    "        u\"\\u231a\"\n",
    "        u\"\\ufe0f\"  # dingbats\n",
    "        u\"\\u3030\"\n",
    "        \"]+\", re.UNICODE)\n",
    "    return re.sub(emoj, '', str(dirty_str))"
   ]
  },
  {
   "cell_type": "code",
   "execution_count": 389,
   "metadata": {},
   "outputs": [],
   "source": [
    "def sanitize_str(dirty_str):\n",
    "\n",
    "    # check for none\n",
    "    if pd.isnull(dirty_str):\n",
    "        return \"\"\n",
    "\n",
    "    # remove punctation\n",
    "    punctuation = r\"\"\"\\\"$%&?!'()*+,-./:;<=>[\\]^__`{|}~0123456789#@\"\"\"\n",
    "    san_str = dirty_str.translate(str.maketrans('', '', punctuation))\n",
    "\n",
    "    # ersetze Umlaute, Akzente etc. durch Ascii-Entsprechung\n",
    "    san_str = unidecode.unidecode(san_str)\n",
    "\n",
    "    # delete multiple spaces\n",
    "    san_str = \" \".join(san_str.split())\n",
    "\n",
    "\n",
    "    # replace empty string with \"\"\n",
    "    if not san_str:\n",
    "        return \"\"\n",
    "    else:\n",
    "        \n",
    "        return san_str.lower()"
   ]
  },
  {
   "cell_type": "code",
   "execution_count": 390,
   "metadata": {},
   "outputs": [
    {
     "data": {
      "text/html": [
       "<div>\n",
       "<style scoped>\n",
       "    .dataframe tbody tr th:only-of-type {\n",
       "        vertical-align: middle;\n",
       "    }\n",
       "\n",
       "    .dataframe tbody tr th {\n",
       "        vertical-align: top;\n",
       "    }\n",
       "\n",
       "    .dataframe thead th {\n",
       "        text-align: right;\n",
       "    }\n",
       "</style>\n",
       "<table border=\"1\" class=\"dataframe\">\n",
       "  <thead>\n",
       "    <tr style=\"text-align: right;\">\n",
       "      <th></th>\n",
       "      <th>screen_name</th>\n",
       "      <th>name</th>\n",
       "      <th>tweets_concatenated</th>\n",
       "      <th>avatar_url</th>\n",
       "      <th>gender</th>\n",
       "      <th>age</th>\n",
       "      <th>age_class</th>\n",
       "    </tr>\n",
       "  </thead>\n",
       "  <tbody>\n",
       "    <tr>\n",
       "      <th>0</th>\n",
       "      <td>DatZerooo</td>\n",
       "      <td>david</td>\n",
       "      <td>warum riecht mein bruder nach pizza wenn er ei...</td>\n",
       "      <td>http://pbs.twimg.com/profile_images/7569661512...</td>\n",
       "      <td>M</td>\n",
       "      <td>16.0</td>\n",
       "      <td>1.0</td>\n",
       "    </tr>\n",
       "    <tr>\n",
       "      <th>0</th>\n",
       "      <td>reap705</td>\n",
       "      <td>oliver gast</td>\n",
       "      <td>css ein offcanvasmenu mit dropdownnavigation p...</td>\n",
       "      <td>http://pbs.twimg.com/profile_images/1366984169...</td>\n",
       "      <td>M</td>\n",
       "      <td>15.0</td>\n",
       "      <td>1.0</td>\n",
       "    </tr>\n",
       "    <tr>\n",
       "      <th>0</th>\n",
       "      <td>Narutofreak935</td>\n",
       "      <td>avengar</td>\n",
       "      <td>grandlinetv gib nicht auf und mach dein ding w...</td>\n",
       "      <td>http://pbs.twimg.com/profile_images/7317971734...</td>\n",
       "      <td>F</td>\n",
       "      <td>19.0</td>\n",
       "      <td>1.0</td>\n",
       "    </tr>\n",
       "    <tr>\n",
       "      <th>0</th>\n",
       "      <td>miley_sarah</td>\n",
       "      <td>sarah</td>\n",
       "      <td>rt bomelino das backe backe kuchenlied ist ein...</td>\n",
       "      <td>http://pbs.twimg.com/profile_images/7584397626...</td>\n",
       "      <td>M</td>\n",
       "      <td>18.0</td>\n",
       "      <td>1.0</td>\n",
       "    </tr>\n",
       "    <tr>\n",
       "      <th>0</th>\n",
       "      <td>DerIncubus</td>\n",
       "      <td>der incubus</td>\n",
       "      <td>nicoleallm na gut ins neue jahr gestartetrt ow...</td>\n",
       "      <td>http://pbs.twimg.com/profile_images/5808649200...</td>\n",
       "      <td>F</td>\n",
       "      <td>22.0</td>\n",
       "      <td>2.0</td>\n",
       "    </tr>\n",
       "    <tr>\n",
       "      <th>0</th>\n",
       "      <td>Petouser</td>\n",
       "      <td>petoyusa</td>\n",
       "      <td>verschworungstheorie pokemon go wird von der s...</td>\n",
       "      <td>http://pbs.twimg.com/profile_images/6626943925...</td>\n",
       "      <td>M</td>\n",
       "      <td>26.0</td>\n",
       "      <td>2.0</td>\n",
       "    </tr>\n",
       "    <tr>\n",
       "      <th>0</th>\n",
       "      <td>ChrisWhite126</td>\n",
       "      <td>chris white</td>\n",
       "      <td>ach du scheisse ist das warm hab locker kg ver...</td>\n",
       "      <td>http://pbs.twimg.com/profile_images/6463341220...</td>\n",
       "      <td>M</td>\n",
       "      <td>37.0</td>\n",
       "      <td>3.0</td>\n",
       "    </tr>\n",
       "    <tr>\n",
       "      <th>0</th>\n",
       "      <td>MusicFreakFever</td>\n",
       "      <td>nadine</td>\n",
       "      <td>heute nur drei schulstunden ich liiiiebe lehre...</td>\n",
       "      <td>http://pbs.twimg.com/profile_images/3788000003...</td>\n",
       "      <td>M</td>\n",
       "      <td>15.0</td>\n",
       "      <td>1.0</td>\n",
       "    </tr>\n",
       "    <tr>\n",
       "      <th>0</th>\n",
       "      <td>LukasAlthoff</td>\n",
       "      <td>luk alt</td>\n",
       "      <td>rt cemoezdemir pazar will mir eine ehrenburger...</td>\n",
       "      <td>http://pbs.twimg.com/profile_images/5035102215...</td>\n",
       "      <td>F</td>\n",
       "      <td>30.0</td>\n",
       "      <td>3.0</td>\n",
       "    </tr>\n",
       "    <tr>\n",
       "      <th>0</th>\n",
       "      <td>TheRPunkt</td>\n",
       "      <td>therpunkt</td>\n",
       "      <td>viel spass mit der folge von letsplay httpstco...</td>\n",
       "      <td>http://pbs.twimg.com/profile_images/7467002138...</td>\n",
       "      <td>M</td>\n",
       "      <td>17.0</td>\n",
       "      <td>1.0</td>\n",
       "    </tr>\n",
       "  </tbody>\n",
       "</table>\n",
       "</div>"
      ],
      "text/plain": [
       "       screen_name         name  \\\n",
       "0        DatZerooo        david   \n",
       "0          reap705  oliver gast   \n",
       "0   Narutofreak935      avengar   \n",
       "0      miley_sarah        sarah   \n",
       "0       DerIncubus  der incubus   \n",
       "0         Petouser     petoyusa   \n",
       "0    ChrisWhite126  chris white   \n",
       "0  MusicFreakFever       nadine   \n",
       "0     LukasAlthoff      luk alt   \n",
       "0        TheRPunkt    therpunkt   \n",
       "\n",
       "                                 tweets_concatenated  \\\n",
       "0  warum riecht mein bruder nach pizza wenn er ei...   \n",
       "0  css ein offcanvasmenu mit dropdownnavigation p...   \n",
       "0  grandlinetv gib nicht auf und mach dein ding w...   \n",
       "0  rt bomelino das backe backe kuchenlied ist ein...   \n",
       "0  nicoleallm na gut ins neue jahr gestartetrt ow...   \n",
       "0  verschworungstheorie pokemon go wird von der s...   \n",
       "0  ach du scheisse ist das warm hab locker kg ver...   \n",
       "0  heute nur drei schulstunden ich liiiiebe lehre...   \n",
       "0  rt cemoezdemir pazar will mir eine ehrenburger...   \n",
       "0  viel spass mit der folge von letsplay httpstco...   \n",
       "\n",
       "                                          avatar_url gender   age  age_class  \n",
       "0  http://pbs.twimg.com/profile_images/7569661512...      M  16.0        1.0  \n",
       "0  http://pbs.twimg.com/profile_images/1366984169...      M  15.0        1.0  \n",
       "0  http://pbs.twimg.com/profile_images/7317971734...      F  19.0        1.0  \n",
       "0  http://pbs.twimg.com/profile_images/7584397626...      M  18.0        1.0  \n",
       "0  http://pbs.twimg.com/profile_images/5808649200...      F  22.0        2.0  \n",
       "0  http://pbs.twimg.com/profile_images/6626943925...      M  26.0        2.0  \n",
       "0  http://pbs.twimg.com/profile_images/6463341220...      M  37.0        3.0  \n",
       "0  http://pbs.twimg.com/profile_images/3788000003...      M  15.0        1.0  \n",
       "0  http://pbs.twimg.com/profile_images/5035102215...      F  30.0        3.0  \n",
       "0  http://pbs.twimg.com/profile_images/7467002138...      M  17.0        1.0  "
      ]
     },
     "execution_count": 390,
     "metadata": {},
     "output_type": "execute_result"
    }
   ],
   "source": [
    "data.name = data.name.apply(remove_emojis)\n",
    "data.tweets_concatenated = data.tweets_concatenated.apply(remove_emojis)\n",
    "data.name = data.name.apply(sanitize_str)\n",
    "data.tweets_concatenated = data.tweets_concatenated.apply(sanitize_str)\n",
    "\n",
    "data = data[data['tweets_concatenated'] != '']\n",
    "data.head(10)"
   ]
  },
  {
   "cell_type": "code",
   "execution_count": 391,
   "metadata": {},
   "outputs": [
    {
     "name": "stdout",
     "output_type": "stream",
     "text": [
      "(609, 7) (244, 7) (163, 7)\n"
     ]
    }
   ],
   "source": [
    "train_sub, temp = train_test_split(data, test_size=0.4, random_state=42)\n",
    "train_meta, test = train_test_split(temp, test_size=0.4, random_state=42)\n",
    "print(train_sub.shape, train_meta.shape, test.shape)"
   ]
  },
  {
   "cell_type": "code",
   "execution_count": 392,
   "metadata": {},
   "outputs": [],
   "source": [
    "train_sub_tweets = train_sub['tweets_concatenated']\n",
    "train_meta_tweets = train_meta['tweets_concatenated']\n",
    "test_tweets = test['tweets_concatenated']\n",
    "\n",
    "train_sub_names = train_sub['name']\n",
    "train_meta_names = train_meta['name']\n",
    "test_names = test['name']"
   ]
  },
  {
   "cell_type": "code",
   "execution_count": 393,
   "metadata": {},
   "outputs": [],
   "source": [
    "y_train_sub = train_sub['age_class']\n",
    "y_train_meta = train_meta['age_class']\n",
    "y_test = test['age_class']"
   ]
  },
  {
   "cell_type": "code",
   "execution_count": 394,
   "metadata": {},
   "outputs": [
    {
     "data": {
      "text/plain": [
       "0    happy new year guys and celebrate a lot d love...\n",
       "0    fabrice danke furs folgen darf morgen endlich ...\n",
       "0    rt elotrixyoutube gewinne einen von burn contr...\n",
       "0    guten abend saphy moin habe mir speichen leds ...\n",
       "0    confessions of jennyjune hopeful monate jetzt ...\n",
       "0    ich twitter gerade von pixelpipe ausich habe g...\n",
       "0    happyberryred vielen lieben dank gtltakokoarts...\n",
       "0    aus der synchro wird wohl nix xx marcelmovies ...\n",
       "0                              httptcovcbrrdzzrsinging\n",
       "0    germanysaysthankyoudgoodluckelounorfromgermany...\n",
       "0    users followed me and users unfollowed me toda...\n",
       "0    frolleinceline akisimasimsblog omg ja danke d ...\n",
       "0    megaquest jup namlich von dir megaquest hahaha...\n",
       "0    spaziergang im wald nature httptcoyhoddrtfkami...\n",
       "0    rt gommehdnet mondaygiveaway retweete jetzt fu...\n",
       "0    so unendlich mude ist ja nicht so das die apes...\n",
       "0    krappiwhatelse kennst du den sanger wendja der...\n",
       "0                  justinbieber hey justin how are you\n",
       "0    ein musikalisches haus ich hore auf dem balkon...\n",
       "0    httpstcomuxqnejxqwer gewinnt die em sehr geil ...\n",
       "Name: tweets_concatenated, dtype: object"
      ]
     },
     "execution_count": 394,
     "metadata": {},
     "output_type": "execute_result"
    }
   ],
   "source": [
    "train_sub_tweets.head(20)"
   ]
  },
  {
   "cell_type": "code",
   "execution_count": 395,
   "metadata": {},
   "outputs": [
    {
     "data": {
      "text/plain": [
       "0           marvin lampe\n",
       "0               zeynep d\n",
       "0           kai huecking\n",
       "0       deap dowhll dude\n",
       "0            lauradenise\n",
       "0        mario schneider\n",
       "0               missbfly\n",
       "0    seidensockensammler\n",
       "0              susanne b\n",
       "0      sirin directioner\n",
       "Name: name, dtype: object"
      ]
     },
     "execution_count": 395,
     "metadata": {},
     "output_type": "execute_result"
    }
   ],
   "source": [
    "train_sub_names.head(10)"
   ]
  },
  {
   "cell_type": "code",
   "execution_count": 396,
   "metadata": {},
   "outputs": [
    {
     "data": {
      "text/plain": [
       "0    1.0\n",
       "0    1.0\n",
       "0    1.0\n",
       "0    1.0\n",
       "Name: age_class, dtype: float64"
      ]
     },
     "execution_count": 396,
     "metadata": {},
     "output_type": "execute_result"
    }
   ],
   "source": [
    "y_train_sub.head(4)"
   ]
  },
  {
   "cell_type": "code",
   "execution_count": 397,
   "metadata": {},
   "outputs": [
    {
     "name": "stderr",
     "output_type": "stream",
     "text": [
      "[nltk_data] Downloading package stopwords to\n",
      "[nltk_data]     C:\\Users\\Markus\\AppData\\Roaming\\nltk_data...\n",
      "[nltk_data]   Package stopwords is already up-to-date!\n"
     ]
    }
   ],
   "source": [
    "nltk.download('stopwords')\n",
    "\n",
    "# remove german and english stopwords\n",
    "german_stop_words = stopwords.words('german')\n",
    "english_stop_words = stopwords.words('english')\n",
    "\n",
    "multi_stopwords = german_stop_words + english_stop_words\n",
    "\n",
    "countvectorizer_tweets = CountVectorizer(stop_words=multi_stopwords, dtype=np.float32)\n",
    "countvectorizer_tweets.fit_transform(train_sub_tweets)\n",
    "\n",
    "x_train_sub_tweets = countvectorizer_tweets.transform(train_sub_tweets)\n",
    "x_train_meta_tweets = countvectorizer_tweets.transform(train_meta_tweets)\n",
    "x_test_tweets = countvectorizer_tweets.transform(test_tweets)"
   ]
  },
  {
   "cell_type": "code",
   "execution_count": 398,
   "metadata": {},
   "outputs": [
    {
     "name": "stderr",
     "output_type": "stream",
     "text": [
      "C:\\Users\\Markus\\anaconda3\\envs\\aiss\\lib\\site-packages\\sklearn\\utils\\deprecation.py:87: FutureWarning: Function get_feature_names is deprecated; get_feature_names is deprecated in 1.0 and will be removed in 1.2. Please use get_feature_names_out instead.\n",
      "  warnings.warn(msg, category=FutureWarning)\n"
     ]
    },
    {
     "data": {
      "text/html": [
       "<div>\n",
       "<style scoped>\n",
       "    .dataframe tbody tr th:only-of-type {\n",
       "        vertical-align: middle;\n",
       "    }\n",
       "\n",
       "    .dataframe tbody tr th {\n",
       "        vertical-align: top;\n",
       "    }\n",
       "\n",
       "    .dataframe thead th {\n",
       "        text-align: right;\n",
       "    }\n",
       "</style>\n",
       "<table border=\"1\" class=\"dataframe\">\n",
       "  <thead>\n",
       "    <tr style=\"text-align: right;\">\n",
       "      <th></th>\n",
       "      <th>3vhauptsache</th>\n",
       "      <th>_rt</th>\n",
       "      <th>_wenn</th>\n",
       "      <th>aa</th>\n",
       "      <th>aaa</th>\n",
       "      <th>aaaaaaaaaaaaaaaaahflauschwurm</th>\n",
       "      <th>aaaaaaaaaaaaaah</th>\n",
       "      <th>aaaaaaab</th>\n",
       "      <th>aaaaaaabbb</th>\n",
       "      <th>aaaaaaahhhhschwarzrotgold</th>\n",
       "      <th>...</th>\n",
       "      <th>zynaesthesie</th>\n",
       "      <th>zypern</th>\n",
       "      <th>zyvuxyt</th>\n",
       "      <th>zz</th>\n",
       "      <th>zzaataazz</th>\n",
       "      <th>zzrox</th>\n",
       "      <th>zzt</th>\n",
       "      <th>zzzzz</th>\n",
       "      <th>zzzzzihh</th>\n",
       "      <th>zzzzzzzzdas</th>\n",
       "    </tr>\n",
       "  </thead>\n",
       "  <tbody>\n",
       "    <tr>\n",
       "      <th>0</th>\n",
       "      <td>0.0</td>\n",
       "      <td>0.0</td>\n",
       "      <td>0.0</td>\n",
       "      <td>0.0</td>\n",
       "      <td>0.0</td>\n",
       "      <td>0.0</td>\n",
       "      <td>0.0</td>\n",
       "      <td>0.0</td>\n",
       "      <td>0.0</td>\n",
       "      <td>0.0</td>\n",
       "      <td>...</td>\n",
       "      <td>0.0</td>\n",
       "      <td>0.0</td>\n",
       "      <td>0.0</td>\n",
       "      <td>0.0</td>\n",
       "      <td>0.0</td>\n",
       "      <td>0.0</td>\n",
       "      <td>0.0</td>\n",
       "      <td>0.0</td>\n",
       "      <td>0.0</td>\n",
       "      <td>0.0</td>\n",
       "    </tr>\n",
       "    <tr>\n",
       "      <th>1</th>\n",
       "      <td>0.0</td>\n",
       "      <td>0.0</td>\n",
       "      <td>0.0</td>\n",
       "      <td>0.0</td>\n",
       "      <td>0.0</td>\n",
       "      <td>0.0</td>\n",
       "      <td>0.0</td>\n",
       "      <td>0.0</td>\n",
       "      <td>0.0</td>\n",
       "      <td>0.0</td>\n",
       "      <td>...</td>\n",
       "      <td>0.0</td>\n",
       "      <td>0.0</td>\n",
       "      <td>0.0</td>\n",
       "      <td>0.0</td>\n",
       "      <td>0.0</td>\n",
       "      <td>0.0</td>\n",
       "      <td>0.0</td>\n",
       "      <td>0.0</td>\n",
       "      <td>0.0</td>\n",
       "      <td>0.0</td>\n",
       "    </tr>\n",
       "    <tr>\n",
       "      <th>2</th>\n",
       "      <td>0.0</td>\n",
       "      <td>0.0</td>\n",
       "      <td>0.0</td>\n",
       "      <td>0.0</td>\n",
       "      <td>0.0</td>\n",
       "      <td>0.0</td>\n",
       "      <td>0.0</td>\n",
       "      <td>0.0</td>\n",
       "      <td>0.0</td>\n",
       "      <td>0.0</td>\n",
       "      <td>...</td>\n",
       "      <td>0.0</td>\n",
       "      <td>0.0</td>\n",
       "      <td>0.0</td>\n",
       "      <td>0.0</td>\n",
       "      <td>0.0</td>\n",
       "      <td>0.0</td>\n",
       "      <td>0.0</td>\n",
       "      <td>0.0</td>\n",
       "      <td>0.0</td>\n",
       "      <td>0.0</td>\n",
       "    </tr>\n",
       "    <tr>\n",
       "      <th>3</th>\n",
       "      <td>0.0</td>\n",
       "      <td>0.0</td>\n",
       "      <td>0.0</td>\n",
       "      <td>0.0</td>\n",
       "      <td>0.0</td>\n",
       "      <td>0.0</td>\n",
       "      <td>0.0</td>\n",
       "      <td>0.0</td>\n",
       "      <td>0.0</td>\n",
       "      <td>0.0</td>\n",
       "      <td>...</td>\n",
       "      <td>0.0</td>\n",
       "      <td>0.0</td>\n",
       "      <td>0.0</td>\n",
       "      <td>0.0</td>\n",
       "      <td>0.0</td>\n",
       "      <td>0.0</td>\n",
       "      <td>0.0</td>\n",
       "      <td>0.0</td>\n",
       "      <td>0.0</td>\n",
       "      <td>0.0</td>\n",
       "    </tr>\n",
       "    <tr>\n",
       "      <th>4</th>\n",
       "      <td>0.0</td>\n",
       "      <td>0.0</td>\n",
       "      <td>0.0</td>\n",
       "      <td>0.0</td>\n",
       "      <td>0.0</td>\n",
       "      <td>0.0</td>\n",
       "      <td>0.0</td>\n",
       "      <td>0.0</td>\n",
       "      <td>0.0</td>\n",
       "      <td>0.0</td>\n",
       "      <td>...</td>\n",
       "      <td>0.0</td>\n",
       "      <td>0.0</td>\n",
       "      <td>0.0</td>\n",
       "      <td>0.0</td>\n",
       "      <td>0.0</td>\n",
       "      <td>0.0</td>\n",
       "      <td>0.0</td>\n",
       "      <td>0.0</td>\n",
       "      <td>0.0</td>\n",
       "      <td>0.0</td>\n",
       "    </tr>\n",
       "    <tr>\n",
       "      <th>...</th>\n",
       "      <td>...</td>\n",
       "      <td>...</td>\n",
       "      <td>...</td>\n",
       "      <td>...</td>\n",
       "      <td>...</td>\n",
       "      <td>...</td>\n",
       "      <td>...</td>\n",
       "      <td>...</td>\n",
       "      <td>...</td>\n",
       "      <td>...</td>\n",
       "      <td>...</td>\n",
       "      <td>...</td>\n",
       "      <td>...</td>\n",
       "      <td>...</td>\n",
       "      <td>...</td>\n",
       "      <td>...</td>\n",
       "      <td>...</td>\n",
       "      <td>...</td>\n",
       "      <td>...</td>\n",
       "      <td>...</td>\n",
       "      <td>...</td>\n",
       "    </tr>\n",
       "    <tr>\n",
       "      <th>604</th>\n",
       "      <td>0.0</td>\n",
       "      <td>0.0</td>\n",
       "      <td>0.0</td>\n",
       "      <td>0.0</td>\n",
       "      <td>0.0</td>\n",
       "      <td>0.0</td>\n",
       "      <td>0.0</td>\n",
       "      <td>0.0</td>\n",
       "      <td>0.0</td>\n",
       "      <td>0.0</td>\n",
       "      <td>...</td>\n",
       "      <td>0.0</td>\n",
       "      <td>0.0</td>\n",
       "      <td>0.0</td>\n",
       "      <td>0.0</td>\n",
       "      <td>0.0</td>\n",
       "      <td>0.0</td>\n",
       "      <td>0.0</td>\n",
       "      <td>0.0</td>\n",
       "      <td>0.0</td>\n",
       "      <td>0.0</td>\n",
       "    </tr>\n",
       "    <tr>\n",
       "      <th>605</th>\n",
       "      <td>0.0</td>\n",
       "      <td>0.0</td>\n",
       "      <td>0.0</td>\n",
       "      <td>0.0</td>\n",
       "      <td>0.0</td>\n",
       "      <td>0.0</td>\n",
       "      <td>0.0</td>\n",
       "      <td>0.0</td>\n",
       "      <td>0.0</td>\n",
       "      <td>0.0</td>\n",
       "      <td>...</td>\n",
       "      <td>0.0</td>\n",
       "      <td>0.0</td>\n",
       "      <td>0.0</td>\n",
       "      <td>0.0</td>\n",
       "      <td>0.0</td>\n",
       "      <td>0.0</td>\n",
       "      <td>0.0</td>\n",
       "      <td>0.0</td>\n",
       "      <td>0.0</td>\n",
       "      <td>0.0</td>\n",
       "    </tr>\n",
       "    <tr>\n",
       "      <th>606</th>\n",
       "      <td>0.0</td>\n",
       "      <td>0.0</td>\n",
       "      <td>0.0</td>\n",
       "      <td>0.0</td>\n",
       "      <td>0.0</td>\n",
       "      <td>0.0</td>\n",
       "      <td>0.0</td>\n",
       "      <td>0.0</td>\n",
       "      <td>0.0</td>\n",
       "      <td>0.0</td>\n",
       "      <td>...</td>\n",
       "      <td>0.0</td>\n",
       "      <td>0.0</td>\n",
       "      <td>0.0</td>\n",
       "      <td>0.0</td>\n",
       "      <td>0.0</td>\n",
       "      <td>0.0</td>\n",
       "      <td>0.0</td>\n",
       "      <td>0.0</td>\n",
       "      <td>0.0</td>\n",
       "      <td>0.0</td>\n",
       "    </tr>\n",
       "    <tr>\n",
       "      <th>607</th>\n",
       "      <td>0.0</td>\n",
       "      <td>0.0</td>\n",
       "      <td>0.0</td>\n",
       "      <td>0.0</td>\n",
       "      <td>0.0</td>\n",
       "      <td>0.0</td>\n",
       "      <td>0.0</td>\n",
       "      <td>0.0</td>\n",
       "      <td>0.0</td>\n",
       "      <td>0.0</td>\n",
       "      <td>...</td>\n",
       "      <td>0.0</td>\n",
       "      <td>0.0</td>\n",
       "      <td>0.0</td>\n",
       "      <td>0.0</td>\n",
       "      <td>0.0</td>\n",
       "      <td>0.0</td>\n",
       "      <td>0.0</td>\n",
       "      <td>0.0</td>\n",
       "      <td>0.0</td>\n",
       "      <td>0.0</td>\n",
       "    </tr>\n",
       "    <tr>\n",
       "      <th>608</th>\n",
       "      <td>0.0</td>\n",
       "      <td>0.0</td>\n",
       "      <td>0.0</td>\n",
       "      <td>0.0</td>\n",
       "      <td>0.0</td>\n",
       "      <td>0.0</td>\n",
       "      <td>0.0</td>\n",
       "      <td>0.0</td>\n",
       "      <td>0.0</td>\n",
       "      <td>0.0</td>\n",
       "      <td>...</td>\n",
       "      <td>0.0</td>\n",
       "      <td>0.0</td>\n",
       "      <td>0.0</td>\n",
       "      <td>0.0</td>\n",
       "      <td>0.0</td>\n",
       "      <td>0.0</td>\n",
       "      <td>0.0</td>\n",
       "      <td>0.0</td>\n",
       "      <td>0.0</td>\n",
       "      <td>0.0</td>\n",
       "    </tr>\n",
       "  </tbody>\n",
       "</table>\n",
       "<p>609 rows × 87569 columns</p>\n",
       "</div>"
      ],
      "text/plain": [
       "     3vhauptsache  _rt  _wenn   aa  aaa  aaaaaaaaaaaaaaaaahflauschwurm  \\\n",
       "0             0.0  0.0    0.0  0.0  0.0                            0.0   \n",
       "1             0.0  0.0    0.0  0.0  0.0                            0.0   \n",
       "2             0.0  0.0    0.0  0.0  0.0                            0.0   \n",
       "3             0.0  0.0    0.0  0.0  0.0                            0.0   \n",
       "4             0.0  0.0    0.0  0.0  0.0                            0.0   \n",
       "..            ...  ...    ...  ...  ...                            ...   \n",
       "604           0.0  0.0    0.0  0.0  0.0                            0.0   \n",
       "605           0.0  0.0    0.0  0.0  0.0                            0.0   \n",
       "606           0.0  0.0    0.0  0.0  0.0                            0.0   \n",
       "607           0.0  0.0    0.0  0.0  0.0                            0.0   \n",
       "608           0.0  0.0    0.0  0.0  0.0                            0.0   \n",
       "\n",
       "     aaaaaaaaaaaaaah  aaaaaaab  aaaaaaabbb  aaaaaaahhhhschwarzrotgold  ...  \\\n",
       "0                0.0       0.0         0.0                        0.0  ...   \n",
       "1                0.0       0.0         0.0                        0.0  ...   \n",
       "2                0.0       0.0         0.0                        0.0  ...   \n",
       "3                0.0       0.0         0.0                        0.0  ...   \n",
       "4                0.0       0.0         0.0                        0.0  ...   \n",
       "..               ...       ...         ...                        ...  ...   \n",
       "604              0.0       0.0         0.0                        0.0  ...   \n",
       "605              0.0       0.0         0.0                        0.0  ...   \n",
       "606              0.0       0.0         0.0                        0.0  ...   \n",
       "607              0.0       0.0         0.0                        0.0  ...   \n",
       "608              0.0       0.0         0.0                        0.0  ...   \n",
       "\n",
       "     zynaesthesie  zypern  zyvuxyt   zz  zzaataazz  zzrox  zzt  zzzzz  \\\n",
       "0             0.0     0.0      0.0  0.0        0.0    0.0  0.0    0.0   \n",
       "1             0.0     0.0      0.0  0.0        0.0    0.0  0.0    0.0   \n",
       "2             0.0     0.0      0.0  0.0        0.0    0.0  0.0    0.0   \n",
       "3             0.0     0.0      0.0  0.0        0.0    0.0  0.0    0.0   \n",
       "4             0.0     0.0      0.0  0.0        0.0    0.0  0.0    0.0   \n",
       "..            ...     ...      ...  ...        ...    ...  ...    ...   \n",
       "604           0.0     0.0      0.0  0.0        0.0    0.0  0.0    0.0   \n",
       "605           0.0     0.0      0.0  0.0        0.0    0.0  0.0    0.0   \n",
       "606           0.0     0.0      0.0  0.0        0.0    0.0  0.0    0.0   \n",
       "607           0.0     0.0      0.0  0.0        0.0    0.0  0.0    0.0   \n",
       "608           0.0     0.0      0.0  0.0        0.0    0.0  0.0    0.0   \n",
       "\n",
       "     zzzzzihh  zzzzzzzzdas  \n",
       "0         0.0          0.0  \n",
       "1         0.0          0.0  \n",
       "2         0.0          0.0  \n",
       "3         0.0          0.0  \n",
       "4         0.0          0.0  \n",
       "..        ...          ...  \n",
       "604       0.0          0.0  \n",
       "605       0.0          0.0  \n",
       "606       0.0          0.0  \n",
       "607       0.0          0.0  \n",
       "608       0.0          0.0  \n",
       "\n",
       "[609 rows x 87569 columns]"
      ]
     },
     "execution_count": 398,
     "metadata": {},
     "output_type": "execute_result"
    }
   ],
   "source": [
    "pd.DataFrame(x_train_sub_tweets.todense(), columns=countvectorizer_tweets.get_feature_names())"
   ]
  },
  {
   "cell_type": "code",
   "execution_count": 399,
   "metadata": {},
   "outputs": [],
   "source": [
    "# train bayes clf on tweets\n",
    "\n",
    "bayes_tweets = bayes(alpha=0.90)\n",
    "bayes_tweets.fit(x_train_sub_tweets, y_train_sub)\n",
    "tweet_score = bayes_tweets.score(x_test_tweets, y_test)"
   ]
  },
  {
   "cell_type": "code",
   "execution_count": 400,
   "metadata": {},
   "outputs": [
    {
     "data": {
      "text/plain": [
       "['clf1.joblib']"
      ]
     },
     "execution_count": 400,
     "metadata": {},
     "output_type": "execute_result"
    }
   ],
   "source": [
    "# dump clf as required\n",
    "dump(bayes_tweets, 'clf1.joblib') "
   ]
  },
  {
   "cell_type": "code",
   "execution_count": 401,
   "metadata": {},
   "outputs": [
    {
     "name": "stdout",
     "output_type": "stream",
     "text": [
      "Tweet Score is 64.42%\n"
     ]
    }
   ],
   "source": [
    "tweet_score_text = f\"Tweet Score is {tweet_score:0.2%}\"\n",
    "print(tweet_score_text)"
   ]
  },
  {
   "cell_type": "code",
   "execution_count": 402,
   "metadata": {},
   "outputs": [],
   "source": [
    "# stack input for later use in meta clf\n",
    "stacked_input_1 = pd.Series(bayes_tweets.predict(x_train_meta_tweets))\n",
    "stacked_input_1_test = pd.Series(bayes_tweets.predict(x_test_tweets))"
   ]
  },
  {
   "cell_type": "markdown",
   "metadata": {},
   "source": [
    "**Short statement:** The achieved accuracy is well above a random guess considering that this is a multi-class problem. Doing the preprocessing helped to improve the accuracy. This is expected, as the feature matrix became smaller and thus easier to learn for Naive Bayes."
   ]
  },
  {
   "cell_type": "markdown",
   "metadata": {},
   "source": [
    "## Name classifier"
   ]
  },
  {
   "cell_type": "code",
   "execution_count": 403,
   "metadata": {},
   "outputs": [],
   "source": [
    "# apply count vectorizer to names \n",
    "cvectorizer_names = CountVectorizer(stop_words=multi_stopwords, dtype=np.float32)\n",
    "x_train_sub_names = cvectorizer_names.fit_transform(train_sub_names)\n",
    "\n",
    "x_train_meta_names = cvectorizer_names.transform(train_meta_names)\n",
    "x_test_names = cvectorizer_names.transform(test_names)"
   ]
  },
  {
   "cell_type": "code",
   "execution_count": 404,
   "metadata": {},
   "outputs": [
    {
     "data": {
      "text/plain": [
       "MultinomialNB(alpha=2)"
      ]
     },
     "execution_count": 404,
     "metadata": {},
     "output_type": "execute_result"
    }
   ],
   "source": [
    "# train bayes clf\n",
    "bayes_names = bayes(alpha=2)\n",
    "bayes_names.fit(x_train_sub_names, y_train_sub)"
   ]
  },
  {
   "cell_type": "code",
   "execution_count": 405,
   "metadata": {},
   "outputs": [
    {
     "name": "stdout",
     "output_type": "stream",
     "text": [
      "Name Score is 61.96%\n"
     ]
    }
   ],
   "source": [
    "name_score = bayes_names.score(x_test_names, y_test)\n",
    "name_score_text = f\"Name Score is {name_score:0.2%}\"\n",
    "print(name_score_text)"
   ]
  },
  {
   "cell_type": "code",
   "execution_count": 406,
   "metadata": {},
   "outputs": [
    {
     "data": {
      "text/plain": [
       "['clf2.joblib']"
      ]
     },
     "execution_count": 406,
     "metadata": {},
     "output_type": "execute_result"
    }
   ],
   "source": [
    "# dump bayes clf as required\n",
    "dump(bayes_names, 'clf2.joblib') "
   ]
  },
  {
   "cell_type": "code",
   "execution_count": 407,
   "metadata": {},
   "outputs": [],
   "source": [
    "# stack input for later use in meta clf\n",
    "stacked_input_2 = pd.Series(bayes_names.predict(x_train_meta_names))\n",
    "stacked_input_2_test = pd.Series(bayes_names.predict(x_test_names))"
   ]
  },
  {
   "cell_type": "markdown",
   "metadata": {},
   "source": [
    "**Short statement:** The achieved accuracy is well above a random guess considering that this is a multi-class problem. Doing the preprocessing helped to improve the accuracy. But the overall performance is not as good as for the tweets classifier."
   ]
  },
  {
   "cell_type": "markdown",
   "metadata": {},
   "source": [
    "## Meta Classifier"
   ]
  },
  {
   "cell_type": "code",
   "execution_count": 408,
   "metadata": {},
   "outputs": [],
   "source": [
    "# initialize RF classifier\n",
    "forest = RandomForestClassifier()"
   ]
  },
  {
   "cell_type": "code",
   "execution_count": 409,
   "metadata": {},
   "outputs": [
    {
     "data": {
      "text/html": [
       "<div>\n",
       "<style scoped>\n",
       "    .dataframe tbody tr th:only-of-type {\n",
       "        vertical-align: middle;\n",
       "    }\n",
       "\n",
       "    .dataframe tbody tr th {\n",
       "        vertical-align: top;\n",
       "    }\n",
       "\n",
       "    .dataframe thead th {\n",
       "        text-align: right;\n",
       "    }\n",
       "</style>\n",
       "<table border=\"1\" class=\"dataframe\">\n",
       "  <thead>\n",
       "    <tr style=\"text-align: right;\">\n",
       "      <th></th>\n",
       "      <th>input_1</th>\n",
       "      <th>input_2</th>\n",
       "    </tr>\n",
       "  </thead>\n",
       "  <tbody>\n",
       "    <tr>\n",
       "      <th>0</th>\n",
       "      <td>2.0</td>\n",
       "      <td>1.0</td>\n",
       "    </tr>\n",
       "    <tr>\n",
       "      <th>1</th>\n",
       "      <td>1.0</td>\n",
       "      <td>1.0</td>\n",
       "    </tr>\n",
       "    <tr>\n",
       "      <th>2</th>\n",
       "      <td>1.0</td>\n",
       "      <td>1.0</td>\n",
       "    </tr>\n",
       "    <tr>\n",
       "      <th>3</th>\n",
       "      <td>2.0</td>\n",
       "      <td>1.0</td>\n",
       "    </tr>\n",
       "    <tr>\n",
       "      <th>4</th>\n",
       "      <td>1.0</td>\n",
       "      <td>1.0</td>\n",
       "    </tr>\n",
       "    <tr>\n",
       "      <th>5</th>\n",
       "      <td>1.0</td>\n",
       "      <td>1.0</td>\n",
       "    </tr>\n",
       "    <tr>\n",
       "      <th>6</th>\n",
       "      <td>1.0</td>\n",
       "      <td>1.0</td>\n",
       "    </tr>\n",
       "    <tr>\n",
       "      <th>7</th>\n",
       "      <td>1.0</td>\n",
       "      <td>1.0</td>\n",
       "    </tr>\n",
       "    <tr>\n",
       "      <th>8</th>\n",
       "      <td>1.0</td>\n",
       "      <td>1.0</td>\n",
       "    </tr>\n",
       "    <tr>\n",
       "      <th>9</th>\n",
       "      <td>1.0</td>\n",
       "      <td>1.0</td>\n",
       "    </tr>\n",
       "  </tbody>\n",
       "</table>\n",
       "</div>"
      ],
      "text/plain": [
       "   input_1  input_2\n",
       "0      2.0      1.0\n",
       "1      1.0      1.0\n",
       "2      1.0      1.0\n",
       "3      2.0      1.0\n",
       "4      1.0      1.0\n",
       "5      1.0      1.0\n",
       "6      1.0      1.0\n",
       "7      1.0      1.0\n",
       "8      1.0      1.0\n",
       "9      1.0      1.0"
      ]
     },
     "execution_count": 409,
     "metadata": {},
     "output_type": "execute_result"
    }
   ],
   "source": [
    "# compose meta results for training\n",
    "meta_data_train = {'input_1': stacked_input_1, 'input_2': stacked_input_2}\n",
    "meta_data_train = pd.DataFrame(meta_data_train)\n",
    "\n",
    "meta_data_train.head(10)"
   ]
  },
  {
   "cell_type": "code",
   "execution_count": 410,
   "metadata": {},
   "outputs": [
    {
     "data": {
      "text/plain": [
       "RandomForestClassifier()"
      ]
     },
     "execution_count": 410,
     "metadata": {},
     "output_type": "execute_result"
    }
   ],
   "source": [
    "# compose meta results for testing\n",
    "meta_data_test = {'input_1': stacked_input_1_test, 'input_2': stacked_input_2_test}\n",
    "meta_data_test = pd.DataFrame(meta_data_test)\n",
    "forest.fit(meta_data_train, y_train_meta)"
   ]
  },
  {
   "cell_type": "code",
   "execution_count": 411,
   "metadata": {},
   "outputs": [],
   "source": [
    "meta_score = forest.score(meta_data_test, y_test)\n",
    "meta_score_text = f\"Meta Score is {meta_score:0.2%}\""
   ]
  },
  {
   "cell_type": "code",
   "execution_count": 412,
   "metadata": {},
   "outputs": [
    {
     "data": {
      "text/plain": [
       "['clf3.joblib']"
      ]
     },
     "execution_count": 412,
     "metadata": {},
     "output_type": "execute_result"
    }
   ],
   "source": [
    "# dump clf as required\n",
    "dump(forest, 'clf3.joblib') "
   ]
  },
  {
   "cell_type": "code",
   "execution_count": 413,
   "metadata": {},
   "outputs": [
    {
     "name": "stdout",
     "output_type": "stream",
     "text": [
      "Tweet Score is 64.42%\n",
      "Name Score is 61.96%\n",
      "Meta Score is 64.42%\n"
     ]
    }
   ],
   "source": [
    "# final comparsion\n",
    "print(tweet_score_text)\n",
    "print(name_score_text)\n",
    "print(meta_score_text)"
   ]
  },
  {
   "cell_type": "markdown",
   "metadata": {},
   "source": [
    "**Short statement:** Learning an ensemble didn't increase the accuracy for me. The accurarcy is the same as for the tweet classifier. It might have been helpful to learn a third classifier as an ensemble member. More over, a random forest is not the right tool for this kind of problem, as it chooses from a random subset of features, but as there are only 2 features, the same features will be choosen for most of the $100$ trees. It would have been worth to try Bagging instead."
   ]
  }
 ],
 "metadata": {
  "kernelspec": {
   "display_name": "Python 3",
   "language": "python",
   "name": "python3"
  },
  "language_info": {
   "codemirror_mode": {
    "name": "ipython",
    "version": 3
   },
   "file_extension": ".py",
   "mimetype": "text/x-python",
   "name": "python",
   "nbconvert_exporter": "python",
   "pygments_lexer": "ipython3",
   "version": "3.8.12"
  }
 },
 "nbformat": 4,
 "nbformat_minor": 4
}
